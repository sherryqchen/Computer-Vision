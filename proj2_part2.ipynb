{
 "cells": [
  {
   "cell_type": "markdown",
   "metadata": {
    "colab": {
     "base_uri": "https://localhost:8080/",
     "height": 132
    },
    "colab_type": "code",
    "id": "fiK4QNWKDvWJ",
    "outputId": "0e498e6b-9c67-40e3-ff46-837f888d8377"
   },
   "source": [
    "# Scene Recognition with Deep Learning\n",
    "\n",
    "## Brief\n",
    "- Due\n",
    "    - Part 1 Code 09/30/2020 11:59PM (released earlier)\n",
    "    - Part 2 Code 10/13/2020 11:59PM (this notebook)\n",
    "    - Report 10/13/2020 11:59PM (in the zip)\n",
    "- Hand-in: through Gradescope\n",
    "- Required files: \n",
    "    - `<your_gt_username>.zip` against [Project 2 - Part 2 - Code (Individual)](https://www.gradescope.com/courses/155064/assignments/699611) or [Project 2 - Part 2 - Code (Partner)](https://www.gradescope.com/courses/155064/assignments/699616/)\n",
    "    - PDF report against [Project 2 - Report](https://www.gradescope.com/courses/155064/assignments/699620)\n",
    "        \n",
    "### Note:\n",
    "1. Working on pairs and individual submissions have already been decided. You cannot switch now.\n",
    "2. You need to copy-paste your all the .py files from the part 1."
   ]
  },
  {
   "cell_type": "markdown",
   "metadata": {
    "colab_type": "text",
    "id": "8-TUO3hQhZ-2"
   },
   "source": [
    "## Outline\n",
    "In this project, we will use *convolutional neural nets* to classify images into different scenes.\n",
    "\n",
    "Basic learning objectives of this project:\n",
    "1. Construct the fundamental pipeline for performing deep learning using PyTorch;\n",
    "2. Understand the concepts behind different layers, optimizers.\n",
    "3. Experiment with different models and observe the performance.\n",
    "\n",
    "The starter code is mostly initialized to 'placeholder' just so that the starter\n",
    "code does not crash when run unmodified and you can get a preview of how\n",
    "results are presented.\n",
    "\n",
    "## Compute Requirements\n",
    "\n",
    "This project is doable without a GPU, but a GPU makes the process much more faster and frustration free.\n",
    "\n",
    "You can try out Google Colab to run this notebook. These are the steps we follow:\n",
    "1. Upload this notebook to google colab\n",
    "2. Zip all the components in the project directory and upload it to the colab runtime\n",
    "3. Unzip the uploaded zip using ```!unzip -qq <uploaded_file>.zip -d ./```\n",
    "\n",
    "Remember to download all the files saved and changes to code you made on the colab.\n",
    "\n",
    "Note that we will not be actively supporting issues with Google colab. Please take help from fellow students and use the internet to solve the issues."
   ]
  },
  {
   "cell_type": "markdown",
   "metadata": {
    "colab_type": "text",
    "id": "v3KVmDW-TdjI"
   },
   "source": [
    "## Dataset\n",
    "The dataset is in the ```data``` folder. It has two subfolders: ```train``` and ```test```. Go through any of the folder and find there you will find the folders with scene names like *bedroom*, *forest*, *office*. These are the 15 scenes that we want our model to predict given an RGB image. You can look into folder for each scene to find multiple images. All this data is labelled data provided to you for training and testing your model.\n",
    "\n",
    "**Let's start coding now!**"
   ]
  },
  {
   "cell_type": "markdown",
   "metadata": {
    "colab_type": "text",
    "id": "BFVeSYKzTdjK"
   },
   "source": [
    "## Setup"
   ]
  },
  {
   "cell_type": "code",
   "execution_count": 3,
   "metadata": {
    "colab": {},
    "colab_type": "code",
    "id": "8QRsVzCGTdjB"
   },
   "outputs": [],
   "source": [
    "# uncomment for running on colab\n",
    "# !unzip -qq proj2_colab.zip -d ./"
   ]
  },
  {
   "cell_type": "code",
   "execution_count": 4,
   "metadata": {
    "colab": {},
    "colab_type": "code",
    "id": "2kTYp67dhZ_D"
   },
   "outputs": [],
   "source": [
    "# flag to modify paths to run better on Colab; change it to true if you want to run on colab\n",
    "use_colab_paths = False "
   ]
  },
  {
   "cell_type": "markdown",
   "metadata": {
    "colab_type": "text",
    "id": "mA7pA3FWhZ_I"
   },
   "source": [
    "## Dataset\n",
    "The dataset is in the ```data``` folder. It has two subfolders: ```train``` and ```test```. Go through any of the folder and find there you will find the folders with scene names like *bedroom*, *forest*, *office*. These are the 15 scenes that we want our model to predict given an RGB image. You can look into folder for each scene to find multiple images. All this data is labelled data provided to you for training and testing your model.\n",
    "\n",
    "**Let's start coding now!**"
   ]
  },
  {
   "cell_type": "code",
   "execution_count": 5,
   "metadata": {},
   "outputs": [
    {
     "data": {
      "text/plain": [
       "'C:\\\\Users\\\\Sherry\\\\Desktop\\\\CS 6476\\\\proj2_code'"
      ]
     },
     "execution_count": 5,
     "metadata": {},
     "output_type": "execute_result"
    }
   ],
   "source": [
    "%pwd\n"
   ]
  },
  {
   "cell_type": "markdown",
   "metadata": {
    "colab_type": "text",
    "id": "DikW12-RhZ_J"
   },
   "source": [
    "## Setup"
   ]
  },
  {
   "cell_type": "code",
   "execution_count": 6,
   "metadata": {
    "colab": {},
    "colab_type": "code",
    "id": "g1dqr6qSBpE2"
   },
   "outputs": [
    {
     "name": "stderr",
     "output_type": "stream",
     "text": [
      "c:\\users\\sherry\\desktop\\cs 6476\\proj2_code\\runner.py:133: SyntaxWarning: \"is\" with a literal. Did you mean \"==\"?\n",
      "  for _, batch in enumerate(self.test_loader if split is 'test' else self.train_loader):\n"
     ]
    }
   ],
   "source": [
    "import os\n",
    "import torch\n",
    "import matplotlib.pyplot as plt\n",
    "from proj2_code.runner import Trainer\n",
    "from proj2_code.optimizer import get_optimizer\n",
    "from proj2_code.simple_net import SimpleNet\n",
    "from proj2_code.simple_net_dropout import SimpleNetDropout\n",
    "from proj2_code.my_alexnet import MyAlexNet\n",
    "from proj2_code.image_loader import ImageLoader\n",
    "from proj2_code.data_transforms import get_fundamental_transforms, get_data_augmentation_transforms\n",
    "from proj2_code.stats_helper import compute_mean_and_std\n",
    "from proj2_code.vis import visualize\n",
    "\n",
    "%load_ext autoreload\n",
    "%autoreload 2"
   ]
  },
  {
   "cell_type": "code",
   "execution_count": null,
   "metadata": {},
   "outputs": [],
   "source": []
  },
  {
   "cell_type": "code",
   "execution_count": 7,
   "metadata": {
    "colab": {},
    "colab_type": "code",
    "id": "CG3e0869TdjS"
   },
   "outputs": [],
   "source": [
    "from proj2_code.proj2_unit_tests.test_base import verify\n",
    "from proj2_code.proj2_unit_tests.test_stats_helper import test_mean_and_variance\n",
    "from proj2_code.proj2_unit_tests.test_image_loader import test_dataset_length, test_unique_vals, test_class_values, test_load_img_from_path\n",
    "from proj2_code.proj2_unit_tests.test_data_transforms import test_fundamental_transforms\n",
    "from proj2_code.proj2_unit_tests.test_dl_utils import test_predict_labels, test_compute_loss\n",
    "from proj2_code.proj2_unit_tests.test_simple_net import test_simple_net\n",
    "from proj2_code.proj2_unit_tests.test_simple_net_dropout import test_simple_net_dropout\n",
    "from proj2_code.proj2_unit_tests.test_my_alexnet import test_my_alexnet\n",
    "from proj2_code.proj2_unit_tests.test_checkpoints import test_simple_net_checkpoint"
   ]
  },
  {
   "cell_type": "code",
   "execution_count": 8,
   "metadata": {
    "colab": {},
    "colab_type": "code",
    "id": "GjE0jIc5BpFN"
   },
   "outputs": [],
   "source": [
    "is_cuda = True\n",
    "is_cuda = is_cuda and torch.cuda.is_available() # will turn off cuda if the machine doesnt have a GPU"
   ]
  },
  {
   "cell_type": "code",
   "execution_count": 9,
   "metadata": {
    "colab": {},
    "colab_type": "code",
    "id": "IKRS4gvZTdji"
   },
   "outputs": [],
   "source": [
    "data_base_path = '../data/' if not use_colab_paths else 'data/'\n",
    "model_base_path = '../model_checkpoints/' if not use_colab_paths else 'model_checkpoints/'"
   ]
  },
  {
   "cell_type": "code",
   "execution_count": 10,
   "metadata": {
    "colab": {
     "base_uri": "https://localhost:8080/",
     "height": 52
    },
    "colab_type": "code",
    "id": "1QoVOsGwhZ_j",
    "outputId": "433432c2-bfe7-4d68-93bd-4579415578cf",
    "tags": []
   },
   "outputs": [
    {
     "name": "stdout",
     "output_type": "stream",
     "text": [
      "['test', 'train']\n",
      "['alexnet', 'quantized_alexnet', 'simple_net', 'simple_net_ablation', 'simple_net_dropout']\n"
     ]
    }
   ],
   "source": [
    "print(os.listdir(data_base_path))\n",
    "print(os.listdir(model_base_path))\n",
    "\n",
    "# TODO: check that these outputs are as per expectation. It will save a lot of time in debugging issues."
   ]
  },
  {
   "cell_type": "markdown",
   "metadata": {
    "colab_type": "text",
    "id": "nulEn5fzTdjs"
   },
   "source": [
    "To train a network in PyTorch, we need 4 components:\n",
    "1. **Dataset** - an object which can load the data and labels given an index.\n",
    "2. **Model** - an object that contains the network architecture definition.\n",
    "3. **Loss function** - a function that measures how far the network output is from the ground truth label.\n",
    "4. **Optimizer** - an object that optimizes the network parameters to reduce the loss value."
   ]
  },
  {
   "cell_type": "markdown",
   "metadata": {
    "colab_type": "text",
    "id": "B027mwlKTdjt"
   },
   "source": [
    "## 1 Datasets\n",
    "One crucial aspect of deep learning is to perform data preprocessing. In DL, we usually *normalize* the dataset and perform some *transformations* on them. The transformations can either help the inputs be compatible with the model (say our model only works on 500x500 images and we need all input to be cropped/scaled to this size) or help in data-augmentation to improve performance (more on this later).\n",
    "\n",
    "\n",
    "### 1.1 Compute mean and standard deviation of the dataset\n",
    "In this project we are going to \"zero-center\" and \"normalize\" the dataset so that each entry has zero mean and the overall standard deviation is 1. \n",
    "\n",
    "**TODO 1**:  fill in the `compute_mean_and_std()` in `stats_helper.py` to compute the **mean** and **standard deviation** of both training and validation data.\n",
    "\n",
    "Debug tip: If you face an error from StandardScaler about attribute not found, please check that the paths are correct and your code actually finds some images."
   ]
  },
  {
   "cell_type": "code",
   "execution_count": 11,
   "metadata": {
    "colab": {
     "base_uri": "https://localhost:8080/",
     "height": 34
    },
    "colab_type": "code",
    "id": "vWA_2UbjBpFd",
    "outputId": "c84201a5-d7c9-4e0e-9b42-5fb784034556"
   },
   "outputs": [
    {
     "name": "stdout",
     "output_type": "stream",
     "text": [
      "Testing your mean and std computation:  \u001b[32m\"Correct\"\u001b[0m\n"
     ]
    }
   ],
   "source": [
    "print(\"Testing your mean and std computation: \", verify(test_mean_and_variance))\n",
    "dataset_mean, dataset_std = compute_mean_and_std(data_base_path)"
   ]
  },
  {
   "cell_type": "code",
   "execution_count": 12,
   "metadata": {
    "colab": {
     "base_uri": "https://localhost:8080/",
     "height": 34
    },
    "colab_type": "code",
    "id": "xixFr8CDBpFn",
    "outputId": "e5da02f4-ac00-4443-8144-4e4e72bb1555"
   },
   "outputs": [
    {
     "name": "stdout",
     "output_type": "stream",
     "text": [
      "Dataset mean = [0.45547487], standard deviation = [0.25316328]\n"
     ]
    }
   ],
   "source": [
    "print('Dataset mean = {}, standard deviation = {}'.format(dataset_mean, dataset_std))"
   ]
  },
  {
   "cell_type": "markdown",
   "metadata": {
    "colab_type": "text",
    "id": "-2TeGbrQBpFu"
   },
   "source": [
    "### 1.2 ImageLoader\n",
    "\n",
    "Now let's create the **Datasets** object to be used later. Remember back in Project 1, we have initialized such a class to load 5 images? Here the task is similar: we have to load each image as well as it's classification label. The essence is to retrieve the paths to all the images required, and be able to provide the **path** and the **class id** when given an index.\n",
    "\n",
    "We will map the scene names (text) into indices 0 to 14 in the image loader. You can choose any mapping you want but once fixed, it has to be consistent throughout this notebook.\n",
    "\n",
    "**TODO 2:** complete the `image_loader.py`"
   ]
  },
  {
   "cell_type": "code",
   "execution_count": 13,
   "metadata": {
    "colab": {
     "base_uri": "https://localhost:8080/",
     "height": 86
    },
    "colab_type": "code",
    "id": "THRvAvluXFcS",
    "outputId": "e66e0cdf-a832-4504-bb31-08e4eda96145"
   },
   "outputs": [
    {
     "name": "stdout",
     "output_type": "stream",
     "text": [
      "Testing your image loader (length): \u001b[32m\"Correct\"\u001b[0m\n",
      "Testing your image loader (values): \u001b[32m\"Correct\"\u001b[0m\n",
      "Testing your image loader (classes): \u001b[32m\"Correct\"\u001b[0m\n",
      "Testing your image loader (paths): \u001b[32m\"Correct\"\u001b[0m\n"
     ]
    }
   ],
   "source": [
    "inp_size = (64,64)\n",
    "print(\"Testing your image loader (length):\", verify(test_dataset_length))\n",
    "print(\"Testing your image loader (values):\", verify(test_unique_vals))\n",
    "print(\"Testing your image loader (classes):\", verify(test_class_values))\n",
    "print(\"Testing your image loader (paths):\", verify(test_load_img_from_path))"
   ]
  },
  {
   "cell_type": "markdown",
   "metadata": {
    "colab_type": "text",
    "id": "EIq75D2CTdkC"
   },
   "source": [
    "### 1.3 Data transforms\n",
    "In this section, we will construct some fundamental transforms to process RGB images into torch tensors, which we can provide as input to our model.\n",
    "\n",
    "1. Resize the input image to the desired shape;\n",
    "2. Convert it to a tensor;\n",
    "3. Normalize them based on the computed mean and standard deviation.\n",
    "\n",
    "**TODO 3:** For this part, complete the function `get_fundamental_transforms()` in `data_transforms.py` "
   ]
  },
  {
   "cell_type": "code",
   "execution_count": 14,
   "metadata": {
    "colab": {
     "base_uri": "https://localhost:8080/",
     "height": 34
    },
    "colab_type": "code",
    "id": "ZoAaL11nTdkD",
    "outputId": "e95d0343-9107-462b-aebe-2f6990efdd08"
   },
   "outputs": [
    {
     "name": "stdout",
     "output_type": "stream",
     "text": [
      "Testing your fundamental data transforms:  \u001b[32m\"Correct\"\u001b[0m\n"
     ]
    }
   ],
   "source": [
    "print(\"Testing your fundamental data transforms: \", verify(test_fundamental_transforms))"
   ]
  },
  {
   "cell_type": "markdown",
   "metadata": {
    "colab_type": "text",
    "id": "5sWOnZmNTdkJ"
   },
   "source": [
    "## 2 Model Architecture and Forward Pass"
   ]
  },
  {
   "cell_type": "markdown",
   "metadata": {
    "colab_type": "text",
    "id": "bg59TFXHTdkL"
   },
   "source": [
    "### 2.1 SimpleNet Model\n",
    "\n",
    "The data is ready! Now we are preparing to move to the actual core of deep learning: the architecture. To get you started in this part, simply define a **2-layer** model in the `simple_net.py`. Here by \"2 layers\" we mean **2 convolutional layers**, so you need to figure out the supporting utilities like ReLU, Max Pooling, and Fully Connected layers, and configure them with proper parameters to make the tensor flow.\n",
    "\n",
    "You may refer the image *simplenet.jpg* in the base folder for a sample network architecture (it's the architecture TAs used in their implementation and is sufficient to get you pass Part 1).\n",
    "\n",
    "**TODO 4**: Do the following in ```simple_net.py```:\n",
    "- Initialize ```self.cnn_layers```\n",
    "- Initialize ```self.fc_layers```\n",
    "- Write the forward function\n",
    "\n",
    "Leave the ```self.loss_criterion = None``` for now."
   ]
  },
  {
   "cell_type": "code",
   "execution_count": 15,
   "metadata": {
    "colab": {
     "base_uri": "https://localhost:8080/",
     "height": 34
    },
    "colab_type": "code",
    "id": "jvVL-ap0BpFx",
    "outputId": "d97819e7-741e-4d37-82ea-8351dd103dff"
   },
   "outputs": [
    {
     "name": "stdout",
     "output_type": "stream",
     "text": [
      "Testing your SimpleNet architecture:  \u001b[32m\"Correct\"\u001b[0m\n"
     ]
    }
   ],
   "source": [
    "print(\"Testing your SimpleNet architecture: \", verify(test_simple_net))"
   ]
  },
  {
   "cell_type": "markdown",
   "metadata": {
    "colab_type": "text",
    "id": "o_YLUulTTdkX"
   },
   "source": [
    "### 2.2 Output prediction"
   ]
  },
  {
   "cell_type": "markdown",
   "metadata": {
    "colab_type": "text",
    "id": "pNBpN4ofTdkZ"
   },
   "source": [
    "Let's see what out model's forward function produces for a sample input, and how it relates to classification. Pytorch's convolution and FC layers are initialized with random weights. So we should not expect any useful output without any training.\n",
    "\n",
    "We will use a data-point from the dataloader we have already created and run the model on it."
   ]
  },
  {
   "cell_type": "code",
   "execution_count": 16,
   "metadata": {
    "colab": {},
    "colab_type": "code",
    "id": "9IW3f_SgTdkc"
   },
   "outputs": [],
   "source": [
    "simple_model = SimpleNet()\n",
    "\n",
    "image_loader = ImageLoader(data_base_path, \n",
    "                           split='train', \n",
    "                           transform=get_fundamental_transforms(inp_size, dataset_mean, dataset_std)\n",
    "                          )"
   ]
  },
  {
   "cell_type": "code",
   "execution_count": 17,
   "metadata": {
    "colab": {},
    "colab_type": "code",
    "id": "OyQDxArjTdkg"
   },
   "outputs": [],
   "source": [
    "# get the 0th sample\n",
    "sample_image, sample_label = next(iter(image_loader))"
   ]
  },
  {
   "cell_type": "code",
   "execution_count": 18,
   "metadata": {
    "colab": {
     "base_uri": "https://localhost:8080/",
     "height": 34
    },
    "colab_type": "code",
    "id": "myJ9kcqUTdkm",
    "outputId": "ec53cd08-979d-41d7-bc7b-07eca46ed064"
   },
   "outputs": [
    {
     "name": "stdout",
     "output_type": "stream",
     "text": [
      "Input image shape =  torch.Size([1, 64, 64])\n"
     ]
    }
   ],
   "source": [
    "print('Input image shape = ', sample_image.shape)"
   ]
  },
  {
   "cell_type": "code",
   "execution_count": 19,
   "metadata": {
    "colab": {
     "base_uri": "https://localhost:8080/",
     "height": 264
    },
    "colab_type": "code",
    "id": "bvHtwSATTdkr",
    "outputId": "ea02c24c-e16c-4af7-e3d1-5b8dc25cf280"
   },
   "outputs": [
    {
     "data": {
      "image/png": "[encoded data removed]",
      "text/plain": [
       "<Figure size 432x288 with 1 Axes>"
      ]
     },
     "metadata": {
      "needs_background": "light"
     },
     "output_type": "display_data"
    }
   ],
   "source": [
    "#show the image\n",
    "fig, axs = plt.subplots()\n",
    "axs.imshow(sample_image.squeeze().numpy(), cmap='gray')\n",
    "axs.axis('off')\n",
    "axs.set_title('Sample image (Target label = {})'.format(sample_label))\n",
    "plt.show()"
   ]
  },
  {
   "cell_type": "code",
   "execution_count": 20,
   "metadata": {
    "colab": {},
    "colab_type": "code",
    "id": "b0XEqQaNTdkw"
   },
   "outputs": [
    {
     "name": "stdout",
     "output_type": "stream",
     "text": [
      "torch.Size([1, 20, 5, 5])\n"
     ]
    }
   ],
   "source": [
    "# run the image through the model\n",
    "sample_model_output = simple_model(sample_image.unsqueeze(0)).detach()"
   ]
  },
  {
   "cell_type": "code",
   "execution_count": 21,
   "metadata": {
    "colab": {
     "base_uri": "https://localhost:8080/",
     "height": 52
    },
    "colab_type": "code",
    "id": "2v9WUSlbTdkz",
    "outputId": "965375e6-08dd-48da-c4cf-ce3ccef31e2c"
   },
   "outputs": [
    {
     "name": "stdout",
     "output_type": "stream",
     "text": [
      "tensor([[-0.0497, -0.0913, -0.0537, -0.1371,  0.1858, -0.0043, -0.0867, -0.1384,\n",
      "          0.1221,  0.1477, -0.1456, -0.0867, -0.0723, -0.1623, -0.0168]])\n"
     ]
    }
   ],
   "source": [
    "print(sample_model_output)"
   ]
  },
  {
   "cell_type": "markdown",
   "metadata": {
    "colab_type": "text",
    "id": "tCtiLVKKTdk3"
   },
   "source": [
    "We have a 15-dimensional tensor as output, but how does it relate to classification?\n",
    "\n",
    "We first convert the this tensor into a probability distribution over 15 classes by applying the [Softmax](https://en.wikipedia.org/wiki/Softmax_function) operation."
   ]
  },
  {
   "cell_type": "code",
   "execution_count": 22,
   "metadata": {
    "colab": {},
    "colab_type": "code",
    "id": "_Ssu7W4jTdk4"
   },
   "outputs": [],
   "source": [
    "sample_probability_values = torch.nn.functional.softmax(sample_model_output, dim=1)"
   ]
  },
  {
   "cell_type": "code",
   "execution_count": 23,
   "metadata": {
    "colab": {
     "base_uri": "https://localhost:8080/",
     "height": 52
    },
    "colab_type": "code",
    "id": "4BXWrwl0Tdk9",
    "outputId": "eb041618-7ba1-4ded-ce43-5eb8a395ac86"
   },
   "outputs": [
    {
     "name": "stdout",
     "output_type": "stream",
     "text": [
      "tensor([[0.0656, 0.0629, 0.0653, 0.0601, 0.0830, 0.0686, 0.0632, 0.0600, 0.0779,\n",
      "         0.0799, 0.0596, 0.0632, 0.0641, 0.0586, 0.0678]])\n"
     ]
    }
   ],
   "source": [
    "print(sample_probability_values)"
   ]
  },
  {
   "cell_type": "markdown",
   "metadata": {
    "colab_type": "text",
    "id": "iTABRuGpTdlD"
   },
   "source": [
    "The prediction of the model will be the index where the probability distribution is the maximum. Convince yourself that the argmax-operation on *sample_model_values* is the same as the argmax-operation on *sample_probability_values*.\n",
    "\n",
    "**TODO 5:** Complete the ```predict_labels()``` function in ```dl_utils.py```."
   ]
  },
  {
   "cell_type": "markdown",
   "metadata": {
    "colab_type": "text",
    "id": "w3j6LNUyTdlD"
   },
   "source": [
    "## 3 Loss function"
   ]
  },
  {
   "cell_type": "markdown",
   "metadata": {
    "colab_type": "text",
    "id": "d2mIs5sQTdlE"
   },
   "source": [
    "We have written a model which takes in a tensor for an image and produces a 15 dimensional output for it. We saw in the previous section on how the output relates to the prediction and probability distribution. But how do we quantify the performance of the model, and how do we use that quantification to form an objective function which we can minimize."
   ]
  },
  {
   "cell_type": "markdown",
   "metadata": {
    "colab_type": "text",
    "id": "1esn_cCXTdlE"
   },
   "source": [
    "Ideally, we would want the probability function to have value 1 for the target *sample_label* and value 0 for the remaining class indices. To penalize the deviation between the desired probability distribution and the model-predicted distrtibution, we use the KL-divergence loss or the cross-entropy loss. Please refer to [this stackexchange post](https://datascience.stackexchange.com/questions/20296/cross-entropy-loss-explanation) for a good explanation and derivation."
   ]
  },
  {
   "cell_type": "markdown",
   "metadata": {
    "colab_type": "text",
    "id": "SvSEgfOBTdlF"
   },
   "source": [
    "**TODO 6:** Assign a loss function to ```self.loss_criterion``` in ```simple_net.py```. Note that we have not done a softmax operation in the model's forward function and choose the [appropriate loss function](https://pytorch.org/docs/stable/nn.html#loss-functions).\n",
    "\n",
    "**TODO 7:** Complete the ```compute_loss()``` function in ```dl_utils.py``` to use the model's loss criterion and compute the loss"
   ]
  },
  {
   "cell_type": "code",
   "execution_count": 24,
   "metadata": {
    "colab": {},
    "colab_type": "code",
    "id": "u9Y3TEv7TdlG"
   },
   "outputs": [],
   "source": [
    "simple_model = SimpleNet()"
   ]
  },
  {
   "cell_type": "code",
   "execution_count": 25,
   "metadata": {
    "colab": {
     "base_uri": "https://localhost:8080/",
     "height": 295
    },
    "colab_type": "code",
    "id": "Y2Lu0S_ETdlK",
    "outputId": "584fd9e2-1fbf-47c7-dc18-81e70ebfc2c3"
   },
   "outputs": [
    {
     "name": "stdout",
     "output_type": "stream",
     "text": [
      "SimpleNet(\n",
      "  (cnn_layers): Sequential(\n",
      "    (conv_1): Conv2d(1, 10, kernel_size=(5, 5), stride=(1, 1))\n",
      "    (maxpool_1): MaxPool2d(kernel_size=3, stride=3, padding=0, dilation=1, ceil_mode=False)\n",
      "    (relu_1): ReLU()\n",
      "    (conv_2): Conv2d(10, 20, kernel_size=(5, 5), stride=(1, 1))\n",
      "    (maxpool_2): MaxPool2d(kernel_size=3, stride=3, padding=0, dilation=1, ceil_mode=False)\n",
      "    (relu_2): ReLU()\n",
      "  )\n",
      "  (fc_layers): Sequential(\n",
      "    (Flatten): Flatten()\n",
      "    (fc1): Linear(in_features=500, out_features=100, bias=True)\n",
      "    (fc2): Linear(in_features=100, out_features=15, bias=True)\n",
      "  )\n",
      "  (loss_criterion): CrossEntropyLoss()\n",
      ")\n"
     ]
    }
   ],
   "source": [
    "print(simple_model)"
   ]
  },
  {
   "cell_type": "code",
   "execution_count": 26,
   "metadata": {
    "colab": {
     "base_uri": "https://localhost:8080/",
     "height": 52
    },
    "colab_type": "code",
    "id": "hbcEPDN0TdmF",
    "outputId": "4545c9ed-1dcb-45fe-eaba-c51d21163bc1"
   },
   "outputs": [
    {
     "name": "stdout",
     "output_type": "stream",
     "text": [
      "Testing your model prediction:  \u001b[32m\"Correct\"\u001b[0m\n",
      "Testing your loss values:  \u001b[32m\"Correct\"\u001b[0m\n"
     ]
    }
   ],
   "source": [
    "print(\"Testing your model prediction: \", verify(test_predict_labels))\n",
    "print(\"Testing your loss values: \", verify(test_compute_loss))"
   ]
  },
  {
   "cell_type": "markdown",
   "metadata": {
    "colab_type": "text",
    "id": "LKQCj596TdlQ"
   },
   "source": [
    "## 4 Optimizer"
   ]
  },
  {
   "cell_type": "markdown",
   "metadata": {
    "colab_type": "text",
    "id": "CB0oPQtVTdlR"
   },
   "source": [
    "### 4.1 Manual gradient descent using Pytorch's autograd\n",
    "\n",
    "Till now, we have defined the model, and designed a loss function which is a proxy for *good* classification. We now to optimize the weights of the network so that the loss function is minimized.\n",
    "\n",
    "Pytorch is a very useful library for deep learning because a lot of tensor operations and functions support the flow of gradients. This feature is called [autograd](https://pytorch.org/tutorials/beginner/blitz/autograd_tutorial.html). This functionality lets use use gradient based optimization techniques like gradient descent without writing a lot of code.\n",
    "\n",
    "Let us first understand how we can access the gradients.\n",
    "\n",
    "### Define a model and a loss function\n",
    "Suppose we have a simple objective function that looks like:\n",
    "$$ L(w) =  w^2 - 10w + 25 $$\n",
    "\n",
    "This is a convex problem, and we know that the loss $L$ is minimized for $w=5$, and we can obtain this in closed form.\n",
    "\n",
    "But let us use gradient descent to obtain the solution in this case."
   ]
  },
  {
   "cell_type": "code",
   "execution_count": 27,
   "metadata": {
    "colab": {},
    "colab_type": "code",
    "id": "JLu-7PG1TdlS"
   },
   "outputs": [],
   "source": [
    "import torch\n",
    "from torch import tensor\n",
    "\n",
    "def quadratic_loss(w: tensor) -> tensor:\n",
    "    assert w.shape==(1,)\n",
    "\n",
    "    # loss function\n",
    "    L = torch.pow(w, 2) - 10 * w + 25\n",
    "    \n",
    "    return L"
   ]
  },
  {
   "cell_type": "markdown",
   "metadata": {
    "colab_type": "text",
    "id": "YPVWOjo6TdlW"
   },
   "source": [
    "Let's compute the loss at w = 0."
   ]
  },
  {
   "cell_type": "code",
   "execution_count": 28,
   "metadata": {
    "colab": {
     "base_uri": "https://localhost:8080/",
     "height": 34
    },
    "colab_type": "code",
    "id": "pbVokXpUTdlX",
    "outputId": "666d20f0-39b9-4719-fe4c-338e2e117534"
   },
   "outputs": [
    {
     "name": "stdout",
     "output_type": "stream",
     "text": [
      "w=0.0000\tLoss=25.0000\n"
     ]
    }
   ],
   "source": [
    "w = tensor([0.0], requires_grad=True)\n",
    "\n",
    "loss = quadratic_loss(w)\n",
    "\n",
    "print('w={:.4f}\\tLoss={:.4f}'.format(w.detach().numpy().item(), loss.detach().numpy().item()))"
   ]
  },
  {
   "cell_type": "markdown",
   "metadata": {
    "colab_type": "text",
    "id": "AabZ-6MnTdla"
   },
   "source": [
    "Now we can do a backward pass of the gradients to get the gradient of loss w.r.t w. Now we need to calculate the gradients with regard to the weights and biases using backprop. It will be very painful if we do it manually, but thankfully, in PyTorch we can have everything covered with autograd, which only needs a simple call of **.backward()** on our loss."
   ]
  },
  {
   "cell_type": "code",
   "execution_count": 29,
   "metadata": {
    "colab": {
     "base_uri": "https://localhost:8080/",
     "height": 34
    },
    "colab_type": "code",
    "id": "jcrIh9P3Tdlb",
    "outputId": "2f5b1efe-ece3-433e-e583-3f3e204f3adf"
   },
   "outputs": [
    {
     "name": "stdout",
     "output_type": "stream",
     "text": [
      "tensor([-10.])\n"
     ]
    }
   ],
   "source": [
    "# perform backward on loss (we need to retain graph here otherwise Pytorch will throw it away)\n",
    "loss.backward(retain_graph=True)\n",
    "\n",
    "print(w.grad.data)\n",
    "\n",
    "# manually zero out the gradient\n",
    "w.grad.zero_()\n",
    "pass"
   ]
  },
  {
   "cell_type": "markdown",
   "metadata": {
    "colab_type": "text",
    "id": "wAPF2cBATdlf"
   },
   "source": [
    "Does this gradient match with the one you compute manually?"
   ]
  },
  {
   "cell_type": "markdown",
   "metadata": {
    "colab_type": "text",
    "id": "qmd3JnxzTdli"
   },
   "source": [
    "With the gradients, we can update the weights and biases using gradient descent:\n",
    "$$w_{k+1}=w_{k} - \\alpha\\frac{\\partial L}{\\partial w_k}$$\n",
    "where $w$ is the parameter we are updating, $\\alpha$ is the learning rate, and $\\frac{\\partial L}{\\partial w_k}$ is the gradient at step $k$. You can learn more about gradient descent [here](https://en.wikipedia.org/wiki/Gradient_descent) and [here](https://developers.google.com/machine-learning/crash-course/reducing-loss/gradient-descent)"
   ]
  },
  {
   "cell_type": "code",
   "execution_count": 30,
   "metadata": {
    "colab": {},
    "colab_type": "code",
    "id": "GIhMyeflTdlj"
   },
   "outputs": [],
   "source": [
    "# set learning rate\n",
    "lr = .03\n",
    "\n",
    "def gradientDescentStep(w: tensor, L: tensor, lr: float=1e-3) -> None:\n",
    "    '''\n",
    "    Take a step of the gradient descent\n",
    "    '''\n",
    "    \n",
    "    # manually zero out the gradient\n",
    "    w.grad.zero_()\n",
    "\n",
    "    # perform backward on loss (we need to retain graph here otherwise Pytorch will throw it away)\n",
    "    L.backward(retain_graph=True)\n",
    "    \n",
    "    with torch.no_grad():\n",
    "        w -= lr * w.grad"
   ]
  },
  {
   "cell_type": "markdown",
   "metadata": {
    "colab_type": "text",
    "id": "uMEZ9eHuTdlm"
   },
   "source": [
    "Let's take one step of the gradient descent and check if the the loss value decreased"
   ]
  },
  {
   "cell_type": "code",
   "execution_count": 31,
   "metadata": {
    "colab": {},
    "colab_type": "code",
    "id": "0BuBQHZwTdln"
   },
   "outputs": [],
   "source": [
    "loss = quadratic_loss(w)\n",
    "\n",
    "gradientDescentStep(w, loss, lr) "
   ]
  },
  {
   "cell_type": "code",
   "execution_count": 32,
   "metadata": {
    "colab": {
     "base_uri": "https://localhost:8080/",
     "height": 34
    },
    "colab_type": "code",
    "id": "yIWP3Tv4Tdlq",
    "outputId": "ba32ccb8-73d9-4a1d-ab6f-4822df3eb4eb"
   },
   "outputs": [
    {
     "name": "stdout",
     "output_type": "stream",
     "text": [
      "w=0.3000\tLoss=22.0900\n"
     ]
    }
   ],
   "source": [
    "loss = quadratic_loss(w)\n",
    "print('w={:.4f}\\tLoss={:.4f}'.format(w.detach().numpy().item(), loss.detach().numpy().item()))"
   ]
  },
  {
   "cell_type": "markdown",
   "metadata": {
    "colab_type": "text",
    "id": "_Mb4IdocTdlv"
   },
   "source": [
    "Looks like it's been optimized!\n",
    "\n",
    "Now let's run a few more updates and see where we can get!"
   ]
  },
  {
   "cell_type": "code",
   "execution_count": 33,
   "metadata": {
    "colab": {
     "base_uri": "https://localhost:8080/",
     "height": 399
    },
    "colab_type": "code",
    "id": "FTfmRlc0Tdlv",
    "outputId": "0b111b50-90d6-47a2-b870-c05c2fc1b88a"
   },
   "outputs": [
    {
     "name": "stdout",
     "output_type": "stream",
     "text": [
      "Iteration 10: w=2.3069\tLoss=7.2527\n",
      "Iteration 20: w=3.5495\tLoss=2.1040\n",
      "Iteration 30: w=4.2187\tLoss=0.6104\n",
      "Iteration 40: w=4.5792\tLoss=0.1771\n",
      "Iteration 50: w=4.7733\tLoss=0.0514\n",
      "Iteration 60: w=4.8779\tLoss=0.0149\n",
      "Iteration 70: w=4.9342\tLoss=0.0043\n",
      "Iteration 80: w=4.9646\tLoss=0.0013\n",
      "Iteration 90: w=4.9809\tLoss=0.0004\n",
      "Iteration 100: w=4.9897\tLoss=0.0001\n",
      "Iteration 110: w=4.9945\tLoss=0.0000\n",
      "Iteration 120: w=4.9970\tLoss=0.0000\n",
      "Iteration 130: w=4.9984\tLoss=0.0000\n",
      "Iteration 140: w=4.9991\tLoss=0.0000\n",
      "Iteration 150: w=4.9995\tLoss=0.0000\n",
      "Iteration 160: w=4.9997\tLoss=0.0000\n",
      "Iteration 170: w=4.9999\tLoss=0.0000\n",
      "Iteration 180: w=4.9999\tLoss=0.0000\n",
      "Iteration 190: w=5.0000\tLoss=-0.0000\n",
      "Iteration 200: w=5.0000\tLoss=0.0000\n",
      "\n",
      "optimization takes 0.034 seconds\n"
     ]
    }
   ],
   "source": [
    "import time\n",
    "\n",
    "\n",
    "start = time.time()\n",
    "for i in range(200):\n",
    "    loss = quadratic_loss(w)\n",
    "    if not (i+1)%10:\n",
    "        print('Iteration {}: w={:.4f}\\tLoss={:.4f}'.format(\n",
    "            i+1, w.detach().numpy().item(), loss.detach().numpy().item()))\n",
    "        \n",
    "    gradientDescentStep(w, loss, lr) \n",
    "        \n",
    "print('\\noptimization takes %0.3f seconds'%(time.time()-start))"
   ]
  },
  {
   "cell_type": "markdown",
   "metadata": {
    "colab_type": "text",
    "id": "CTFEo_JMTdlz"
   },
   "source": [
    "Seems that it's doing a great job training our model! The loss now has decreased significantly to a pretty small value."
   ]
  },
  {
   "cell_type": "markdown",
   "metadata": {
    "colab_type": "text",
    "id": "ZMtBy2JvTdl0"
   },
   "source": [
    "### 4.2 Optimization using Pytorch's gradient descent optimizer\n",
    "\n",
    "Now let's see how we can simplify this using the `torch.optim` package from PyTorch. You can see that using optimizer from `torch.optim` package can achieve the same results with a lot less code from our side. Also, there are many features available over the vanilla gradient descent. Let's use the Stochastic Gradient Descent (SGD) optimizer available in Pytorch."
   ]
  },
  {
   "cell_type": "code",
   "execution_count": 34,
   "metadata": {
    "colab": {
     "base_uri": "https://localhost:8080/",
     "height": 399
    },
    "colab_type": "code",
    "id": "YKb3ngxtTdl1",
    "outputId": "b444730f-5b89-4ecb-c5c5-95a93833d851"
   },
   "outputs": [
    {
     "name": "stdout",
     "output_type": "stream",
     "text": [
      "Iteration 10: w=2.3069\tLoss=8.2081\n",
      "Iteration 20: w=3.5495\tLoss=2.3812\n",
      "Iteration 30: w=4.2187\tLoss=0.6908\n",
      "Iteration 40: w=4.5792\tLoss=0.2004\n",
      "Iteration 50: w=4.7733\tLoss=0.0581\n",
      "Iteration 60: w=4.8779\tLoss=0.0169\n",
      "Iteration 70: w=4.9342\tLoss=0.0049\n",
      "Iteration 80: w=4.9646\tLoss=0.0014\n",
      "Iteration 90: w=4.9809\tLoss=0.0004\n",
      "Iteration 100: w=4.9897\tLoss=0.0001\n",
      "Iteration 110: w=4.9945\tLoss=0.0000\n",
      "Iteration 120: w=4.9970\tLoss=0.0000\n",
      "Iteration 130: w=4.9984\tLoss=0.0000\n",
      "Iteration 140: w=4.9991\tLoss=0.0000\n",
      "Iteration 150: w=4.9995\tLoss=0.0000\n",
      "Iteration 160: w=4.9997\tLoss=0.0000\n",
      "Iteration 170: w=4.9999\tLoss=0.0000\n",
      "Iteration 180: w=4.9999\tLoss=0.0000\n",
      "Iteration 190: w=5.0000\tLoss=0.0000\n",
      "Iteration 200: w=5.0000\tLoss=0.0000\n",
      "\n",
      "optimization takes 0.037 seconds\n"
     ]
    }
   ],
   "source": [
    "from torch.optim import SGD\n",
    "\n",
    "# define parameters we want to optimize\n",
    "w = tensor([0.0], requires_grad=True)\n",
    "\n",
    "optimizer = SGD([w], lr=lr)\n",
    "\n",
    "start = time.time()\n",
    "for i in range(200):\n",
    "    loss = quadratic_loss(w)   \n",
    "    optimizer.zero_grad()\n",
    "    loss.backward()\n",
    "    optimizer.step()\n",
    "    if not (i+1)%10:\n",
    "        print('Iteration {}: w={:.4f}\\tLoss={:.4f}'.format(\n",
    "            i+1, w.detach().numpy().item(), loss.detach().numpy().item()))\n",
    "        \n",
    "print('\\noptimization takes %0.3f seconds'%(time.time()-start))"
   ]
  },
  {
   "cell_type": "markdown",
   "metadata": {
    "colab_type": "text",
    "id": "4IsnddUCTdl5"
   },
   "source": [
    "### 4.3 Setting up the optimizer for SimpleNet"
   ]
  },
  {
   "cell_type": "markdown",
   "metadata": {
    "colab_type": "text",
    "id": "OxeVYy1bTdl6"
   },
   "source": [
    "**TODO 8:** **initialize the following cell with proper values for learning rate and weight decay** \n",
    "\n",
    "**Note:** There is nothing to do in this TODO for the first pass. You'll train the model with these values and it will be bad. Then you can come back here and tune the parameters."
   ]
  },
  {
   "cell_type": "code",
   "execution_count": 35,
   "metadata": {
    "colab": {},
    "colab_type": "code",
    "id": "V2cwtK5PBpF7"
   },
   "outputs": [],
   "source": [
    "# TODO: add a decent initial setting and tune from there\n",
    "optimizer_config = {\n",
    "  \"optimizer_type\": \"sgd\",\n",
    "  \"lr\": 0.02,\n",
    "  \"weight_decay\": 1e-5\n",
    "}"
   ]
  },
  {
   "cell_type": "markdown",
   "metadata": {
    "colab_type": "text",
    "id": "Q3pyzj8KTdl_"
   },
   "source": [
    "We will now set up a utility function to define an optimizer on the loss for a model.\n",
    "\n",
    "**TODO 9:** complete the ```get_optimizer()``` function in ```optimizer.py```. The helper function accepts three basic configurations as defined below. Any other configuration is optional. *SGD* optimizer type should be supported, anything else is optional."
   ]
  },
  {
   "cell_type": "code",
   "execution_count": 36,
   "metadata": {
    "colab": {},
    "colab_type": "code",
    "id": "P0CrYZa4BpGE"
   },
   "outputs": [],
   "source": [
    "optimizer = get_optimizer(simple_model, optimizer_config)"
   ]
  },
  {
   "cell_type": "markdown",
   "metadata": {
    "colab_type": "text",
    "id": "3b8cjmrSTdmK"
   },
   "source": [
    "## 5 Training SimpleNet"
   ]
  },
  {
   "cell_type": "markdown",
   "metadata": {
    "colab_type": "text",
    "id": "DBrJnj2tTdmL"
   },
   "source": [
    "We have completed all the components required to train the first model for this course. Let's pass in the model architecture, optimizer, transforms for both the training and testing datasets into the trainer, and proceed to the next cell to train it. If you have implemented everything correctly, you should be seeing a decreasing loss value.\n",
    "\n",
    "**Note** in this project, we will be using the test set as the validation set (i.e. using it to guide our decisions about models and hyperparamters while training. In actual practise, you would not interact with the test set until reporting the final results.\n",
    "\n",
    "**Note** that your CPU should be sufficient to handle the training process for all networks in this project, and the following training cells will take less than 5 minutes; you may also want to decrease the value for `num_epochs` and quickly experiment with your parameters. The default value of **30** is good enough to get you around the threshold for Part 1, and you are free to increase it a bit and adjust other parameters in this part."
   ]
  },
  {
   "cell_type": "code",
   "execution_count": 37,
   "metadata": {
    "colab": {},
    "colab_type": "code",
    "id": "UiGOvPJfBpGO"
   },
   "outputs": [],
   "source": [
    "# re-init the model so that the weights are all random\n",
    "simple_model = SimpleNet()\n",
    "optimizer = get_optimizer(simple_model, optimizer_config)\n",
    "\n",
    "trainer = Trainer(data_dir=data_base_path, \n",
    "                  model = simple_model,\n",
    "                  optimizer = optimizer,\n",
    "                  model_dir = os.path.join(model_base_path, 'simple_net'),\n",
    "                  train_data_transforms = get_fundamental_transforms(inp_size, dataset_mean, dataset_std),\n",
    "                  test_data_transforms = get_fundamental_transforms(inp_size, dataset_mean, dataset_std),\n",
    "                  batch_size = 32,\n",
    "                  load_from_disk = False,\n",
    "                  cuda = is_cuda\n",
    "                 )"
   ]
  },
  {
   "cell_type": "code",
   "execution_count": 38,
   "metadata": {
    "colab": {
     "base_uri": "https://localhost:8080/",
     "height": 555
    },
    "colab_type": "code",
    "id": "paNLyU5cBpGX",
    "outputId": "e8506469-b4e5-4aa6-9423-8235b96068ab"
   },
   "outputs": [
    {
     "name": "stdout",
     "output_type": "stream",
     "text": [
      "torch.Size([32, 20, 5, 5])\n",
      "torch.Size([32, 20, 5, 5])\n",
      "torch.Size([32, 20, 5, 5])\n",
      "torch.Size([32, 20, 5, 5])\n",
      "torch.Size([32, 20, 5, 5])\n",
      "torch.Size([32, 20, 5, 5])\n",
      "torch.Size([32, 20, 5, 5])\n",
      "torch.Size([32, 20, 5, 5])\n",
      "torch.Size([32, 20, 5, 5])\n",
      "torch.Size([32, 20, 5, 5])\n",
      "torch.Size([32, 20, 5, 5])\n",
      "torch.Size([32, 20, 5, 5])\n",
      "torch.Size([32, 20, 5, 5])\n",
      "torch.Size([32, 20, 5, 5])\n",
      "torch.Size([32, 20, 5, 5])\n",
      "torch.Size([32, 20, 5, 5])\n",
      "torch.Size([32, 20, 5, 5])\n",
      "torch.Size([32, 20, 5, 5])\n",
      "torch.Size([32, 20, 5, 5])\n",
      "torch.Size([32, 20, 5, 5])\n",
      "torch.Size([32, 20, 5, 5])\n",
      "torch.Size([32, 20, 5, 5])\n",
      "torch.Size([32, 20, 5, 5])\n",
      "torch.Size([32, 20, 5, 5])\n",
      "torch.Size([32, 20, 5, 5])\n",
      "torch.Size([32, 20, 5, 5])\n",
      "torch.Size([32, 20, 5, 5])\n",
      "torch.Size([32, 20, 5, 5])\n",
      "torch.Size([32, 20, 5, 5])\n",
      "torch.Size([32, 20, 5, 5])\n",
      "torch.Size([32, 20, 5, 5])\n",
      "torch.Size([32, 20, 5, 5])\n",
      "torch.Size([32, 20, 5, 5])\n",
      "torch.Size([32, 20, 5, 5])\n",
      "torch.Size([32, 20, 5, 5])\n",
      "torch.Size([32, 20, 5, 5])\n",
      "torch.Size([32, 20, 5, 5])\n",
      "torch.Size([32, 20, 5, 5])\n",
      "torch.Size([32, 20, 5, 5])\n",
      "torch.Size([32, 20, 5, 5])\n",
      "torch.Size([32, 20, 5, 5])\n",
      "torch.Size([32, 20, 5, 5])\n",
      "torch.Size([32, 20, 5, 5])\n",
      "torch.Size([32, 20, 5, 5])\n",
      "torch.Size([32, 20, 5, 5])\n",
      "torch.Size([32, 20, 5, 5])\n",
      "torch.Size([32, 20, 5, 5])\n",
      "torch.Size([32, 20, 5, 5])\n",
      "torch.Size([32, 20, 5, 5])\n",
      "torch.Size([32, 20, 5, 5])\n",
      "torch.Size([32, 20, 5, 5])\n",
      "torch.Size([32, 20, 5, 5])\n",
      "torch.Size([32, 20, 5, 5])\n",
      "torch.Size([32, 20, 5, 5])\n",
      "torch.Size([32, 20, 5, 5])\n",
      "torch.Size([32, 20, 5, 5])\n",
      "torch.Size([32, 20, 5, 5])\n",
      "torch.Size([32, 20, 5, 5])\n",
      "torch.Size([32, 20, 5, 5])\n",
      "torch.Size([32, 20, 5, 5])\n",
      "torch.Size([32, 20, 5, 5])\n",
      "torch.Size([32, 20, 5, 5])\n",
      "torch.Size([32, 20, 5, 5])\n",
      "torch.Size([32, 20, 5, 5])\n",
      "torch.Size([32, 20, 5, 5])\n",
      "torch.Size([32, 20, 5, 5])\n",
      "torch.Size([32, 20, 5, 5])\n",
      "torch.Size([32, 20, 5, 5])\n",
      "torch.Size([32, 20, 5, 5])\n",
      "torch.Size([32, 20, 5, 5])\n",
      "torch.Size([32, 20, 5, 5])\n",
      "torch.Size([32, 20, 5, 5])\n",
      "torch.Size([32, 20, 5, 5])\n",
      "torch.Size([32, 20, 5, 5])\n",
      "torch.Size([32, 20, 5, 5])\n",
      "torch.Size([32, 20, 5, 5])\n",
      "torch.Size([32, 20, 5, 5])\n",
      "torch.Size([32, 20, 5, 5])\n",
      "torch.Size([32, 20, 5, 5])\n",
      "torch.Size([32, 20, 5, 5])\n",
      "torch.Size([32, 20, 5, 5])\n",
      "torch.Size([32, 20, 5, 5])\n",
      "torch.Size([32, 20, 5, 5])\n",
      "torch.Size([32, 20, 5, 5])\n",
      "torch.Size([32, 20, 5, 5])\n",
      "torch.Size([32, 20, 5, 5])\n",
      "torch.Size([32, 20, 5, 5])\n",
      "torch.Size([32, 20, 5, 5])\n",
      "torch.Size([32, 20, 5, 5])\n",
      "torch.Size([32, 20, 5, 5])\n",
      "torch.Size([32, 20, 5, 5])\n",
      "torch.Size([32, 20, 5, 5])\n",
      "torch.Size([32, 20, 5, 5])\n",
      "torch.Size([9, 20, 5, 5])\n",
      "torch.Size([32, 20, 5, 5])\n",
      "torch.Size([32, 20, 5, 5])\n",
      "torch.Size([32, 20, 5, 5])\n",
      "torch.Size([32, 20, 5, 5])\n",
      "torch.Size([32, 20, 5, 5])\n",
      "torch.Size([32, 20, 5, 5])\n",
      "torch.Size([32, 20, 5, 5])\n",
      "torch.Size([32, 20, 5, 5])\n",
      "torch.Size([32, 20, 5, 5])\n",
      "torch.Size([32, 20, 5, 5])\n",
      "torch.Size([32, 20, 5, 5])\n",
      "torch.Size([32, 20, 5, 5])\n",
      "torch.Size([32, 20, 5, 5])\n",
      "torch.Size([32, 20, 5, 5])\n",
      "torch.Size([32, 20, 5, 5])\n",
      "torch.Size([32, 20, 5, 5])\n",
      "torch.Size([32, 20, 5, 5])\n",
      "torch.Size([32, 20, 5, 5])\n",
      "torch.Size([32, 20, 5, 5])\n",
      "torch.Size([32, 20, 5, 5])\n",
      "torch.Size([32, 20, 5, 5])\n",
      "torch.Size([32, 20, 5, 5])\n",
      "torch.Size([32, 20, 5, 5])\n",
      "torch.Size([32, 20, 5, 5])\n",
      "torch.Size([32, 20, 5, 5])\n",
      "torch.Size([32, 20, 5, 5])\n",
      "torch.Size([32, 20, 5, 5])\n",
      "torch.Size([32, 20, 5, 5])\n",
      "torch.Size([32, 20, 5, 5])\n",
      "torch.Size([32, 20, 5, 5])\n",
      "torch.Size([32, 20, 5, 5])\n",
      "torch.Size([32, 20, 5, 5])\n",
      "torch.Size([32, 20, 5, 5])\n",
      "torch.Size([32, 20, 5, 5])\n",
      "torch.Size([32, 20, 5, 5])\n",
      "torch.Size([32, 20, 5, 5])\n",
      "torch.Size([32, 20, 5, 5])\n",
      "torch.Size([32, 20, 5, 5])\n",
      "torch.Size([32, 20, 5, 5])\n",
      "torch.Size([32, 20, 5, 5])\n",
      "torch.Size([32, 20, 5, 5])\n",
      "torch.Size([32, 20, 5, 5])\n",
      "torch.Size([32, 20, 5, 5])\n",
      "torch.Size([32, 20, 5, 5])\n",
      "torch.Size([32, 20, 5, 5])\n",
      "torch.Size([32, 20, 5, 5])\n",
      "torch.Size([28, 20, 5, 5])\n",
      "Epoch:0, Training Loss:2.7117, Validation Loss:2.7240\n",
      "torch.Size([32, 20, 5, 5])\n",
      "torch.Size([32, 20, 5, 5])\n",
      "torch.Size([32, 20, 5, 5])\n",
      "torch.Size([32, 20, 5, 5])\n",
      "torch.Size([32, 20, 5, 5])\n",
      "torch.Size([32, 20, 5, 5])\n",
      "torch.Size([32, 20, 5, 5])\n",
      "torch.Size([32, 20, 5, 5])\n",
      "torch.Size([32, 20, 5, 5])\n",
      "torch.Size([32, 20, 5, 5])\n",
      "torch.Size([32, 20, 5, 5])\n",
      "torch.Size([32, 20, 5, 5])\n",
      "torch.Size([32, 20, 5, 5])\n",
      "torch.Size([32, 20, 5, 5])\n",
      "torch.Size([32, 20, 5, 5])\n",
      "torch.Size([32, 20, 5, 5])\n",
      "torch.Size([32, 20, 5, 5])\n",
      "torch.Size([32, 20, 5, 5])\n",
      "torch.Size([32, 20, 5, 5])\n",
      "torch.Size([32, 20, 5, 5])\n",
      "torch.Size([32, 20, 5, 5])\n",
      "torch.Size([32, 20, 5, 5])\n",
      "torch.Size([32, 20, 5, 5])\n",
      "torch.Size([32, 20, 5, 5])\n",
      "torch.Size([32, 20, 5, 5])\n",
      "torch.Size([32, 20, 5, 5])\n",
      "torch.Size([32, 20, 5, 5])\n",
      "torch.Size([32, 20, 5, 5])\n",
      "torch.Size([32, 20, 5, 5])\n",
      "torch.Size([32, 20, 5, 5])\n",
      "torch.Size([32, 20, 5, 5])\n",
      "torch.Size([32, 20, 5, 5])\n",
      "torch.Size([32, 20, 5, 5])\n",
      "torch.Size([32, 20, 5, 5])\n",
      "torch.Size([32, 20, 5, 5])\n",
      "torch.Size([32, 20, 5, 5])\n",
      "torch.Size([32, 20, 5, 5])\n",
      "torch.Size([32, 20, 5, 5])\n",
      "torch.Size([32, 20, 5, 5])\n",
      "torch.Size([32, 20, 5, 5])\n",
      "torch.Size([32, 20, 5, 5])\n",
      "torch.Size([32, 20, 5, 5])\n",
      "torch.Size([32, 20, 5, 5])\n",
      "torch.Size([32, 20, 5, 5])\n",
      "torch.Size([32, 20, 5, 5])\n",
      "torch.Size([32, 20, 5, 5])\n",
      "torch.Size([32, 20, 5, 5])\n",
      "torch.Size([32, 20, 5, 5])\n",
      "torch.Size([32, 20, 5, 5])\n",
      "torch.Size([32, 20, 5, 5])\n",
      "torch.Size([32, 20, 5, 5])\n",
      "torch.Size([32, 20, 5, 5])\n",
      "torch.Size([32, 20, 5, 5])\n",
      "torch.Size([32, 20, 5, 5])\n",
      "torch.Size([32, 20, 5, 5])\n",
      "torch.Size([32, 20, 5, 5])\n",
      "torch.Size([32, 20, 5, 5])\n",
      "torch.Size([32, 20, 5, 5])\n",
      "torch.Size([32, 20, 5, 5])\n",
      "torch.Size([32, 20, 5, 5])\n",
      "torch.Size([32, 20, 5, 5])\n",
      "torch.Size([32, 20, 5, 5])\n",
      "torch.Size([32, 20, 5, 5])\n",
      "torch.Size([32, 20, 5, 5])\n",
      "torch.Size([32, 20, 5, 5])\n",
      "torch.Size([32, 20, 5, 5])\n",
      "torch.Size([32, 20, 5, 5])\n",
      "torch.Size([32, 20, 5, 5])\n",
      "torch.Size([32, 20, 5, 5])\n",
      "torch.Size([32, 20, 5, 5])\n",
      "torch.Size([32, 20, 5, 5])\n",
      "torch.Size([32, 20, 5, 5])\n",
      "torch.Size([32, 20, 5, 5])\n",
      "torch.Size([32, 20, 5, 5])\n",
      "torch.Size([32, 20, 5, 5])\n",
      "torch.Size([32, 20, 5, 5])\n",
      "torch.Size([32, 20, 5, 5])\n",
      "torch.Size([32, 20, 5, 5])\n",
      "torch.Size([32, 20, 5, 5])\n",
      "torch.Size([32, 20, 5, 5])\n",
      "torch.Size([32, 20, 5, 5])\n",
      "torch.Size([32, 20, 5, 5])\n",
      "torch.Size([32, 20, 5, 5])\n",
      "torch.Size([32, 20, 5, 5])\n",
      "torch.Size([32, 20, 5, 5])\n",
      "torch.Size([32, 20, 5, 5])\n",
      "torch.Size([32, 20, 5, 5])\n",
      "torch.Size([32, 20, 5, 5])\n",
      "torch.Size([32, 20, 5, 5])\n",
      "torch.Size([32, 20, 5, 5])\n",
      "torch.Size([32, 20, 5, 5])\n",
      "torch.Size([32, 20, 5, 5])\n",
      "torch.Size([32, 20, 5, 5])\n",
      "torch.Size([9, 20, 5, 5])\n",
      "torch.Size([32, 20, 5, 5])\n",
      "torch.Size([32, 20, 5, 5])\n",
      "torch.Size([32, 20, 5, 5])\n",
      "torch.Size([32, 20, 5, 5])\n",
      "torch.Size([32, 20, 5, 5])\n",
      "torch.Size([32, 20, 5, 5])\n",
      "torch.Size([32, 20, 5, 5])\n",
      "torch.Size([32, 20, 5, 5])\n",
      "torch.Size([32, 20, 5, 5])\n",
      "torch.Size([32, 20, 5, 5])\n",
      "torch.Size([32, 20, 5, 5])\n",
      "torch.Size([32, 20, 5, 5])\n",
      "torch.Size([32, 20, 5, 5])\n",
      "torch.Size([32, 20, 5, 5])\n",
      "torch.Size([32, 20, 5, 5])\n",
      "torch.Size([32, 20, 5, 5])\n",
      "torch.Size([32, 20, 5, 5])\n",
      "torch.Size([32, 20, 5, 5])\n",
      "torch.Size([32, 20, 5, 5])\n",
      "torch.Size([32, 20, 5, 5])\n",
      "torch.Size([32, 20, 5, 5])\n",
      "torch.Size([32, 20, 5, 5])\n",
      "torch.Size([32, 20, 5, 5])\n",
      "torch.Size([32, 20, 5, 5])\n",
      "torch.Size([32, 20, 5, 5])\n",
      "torch.Size([32, 20, 5, 5])\n",
      "torch.Size([32, 20, 5, 5])\n",
      "torch.Size([32, 20, 5, 5])\n",
      "torch.Size([32, 20, 5, 5])\n",
      "torch.Size([32, 20, 5, 5])\n",
      "torch.Size([32, 20, 5, 5])\n",
      "torch.Size([32, 20, 5, 5])\n",
      "torch.Size([32, 20, 5, 5])\n",
      "torch.Size([32, 20, 5, 5])\n",
      "torch.Size([32, 20, 5, 5])\n",
      "torch.Size([32, 20, 5, 5])\n",
      "torch.Size([32, 20, 5, 5])\n",
      "torch.Size([32, 20, 5, 5])\n",
      "torch.Size([32, 20, 5, 5])\n",
      "torch.Size([32, 20, 5, 5])\n",
      "torch.Size([32, 20, 5, 5])\n",
      "torch.Size([32, 20, 5, 5])\n",
      "torch.Size([32, 20, 5, 5])\n",
      "torch.Size([32, 20, 5, 5])\n",
      "torch.Size([32, 20, 5, 5])\n",
      "torch.Size([32, 20, 5, 5])\n",
      "torch.Size([32, 20, 5, 5])\n",
      "torch.Size([32, 20, 5, 5])\n",
      "torch.Size([32, 20, 5, 5])\n",
      "torch.Size([32, 20, 5, 5])\n",
      "torch.Size([32, 20, 5, 5])\n",
      "torch.Size([32, 20, 5, 5])\n",
      "torch.Size([32, 20, 5, 5])\n",
      "torch.Size([32, 20, 5, 5])\n",
      "torch.Size([32, 20, 5, 5])\n",
      "torch.Size([32, 20, 5, 5])\n",
      "torch.Size([32, 20, 5, 5])\n",
      "torch.Size([32, 20, 5, 5])\n",
      "torch.Size([32, 20, 5, 5])\n",
      "torch.Size([32, 20, 5, 5])\n",
      "torch.Size([32, 20, 5, 5])\n",
      "torch.Size([32, 20, 5, 5])\n",
      "torch.Size([32, 20, 5, 5])\n",
      "torch.Size([32, 20, 5, 5])\n",
      "torch.Size([32, 20, 5, 5])\n",
      "torch.Size([32, 20, 5, 5])\n",
      "torch.Size([32, 20, 5, 5])\n"
     ]
    },
    {
     "name": "stdout",
     "output_type": "stream",
     "text": [
      "torch.Size([32, 20, 5, 5])\n",
      "torch.Size([32, 20, 5, 5])\n",
      "torch.Size([32, 20, 5, 5])\n",
      "torch.Size([32, 20, 5, 5])\n",
      "torch.Size([32, 20, 5, 5])\n",
      "torch.Size([32, 20, 5, 5])\n",
      "torch.Size([32, 20, 5, 5])\n",
      "torch.Size([32, 20, 5, 5])\n",
      "torch.Size([32, 20, 5, 5])\n",
      "torch.Size([32, 20, 5, 5])\n",
      "torch.Size([32, 20, 5, 5])\n",
      "torch.Size([32, 20, 5, 5])\n",
      "torch.Size([32, 20, 5, 5])\n",
      "torch.Size([32, 20, 5, 5])\n",
      "torch.Size([32, 20, 5, 5])\n",
      "torch.Size([32, 20, 5, 5])\n",
      "torch.Size([32, 20, 5, 5])\n",
      "torch.Size([32, 20, 5, 5])\n",
      "torch.Size([32, 20, 5, 5])\n",
      "torch.Size([32, 20, 5, 5])\n",
      "torch.Size([32, 20, 5, 5])\n",
      "torch.Size([32, 20, 5, 5])\n",
      "torch.Size([32, 20, 5, 5])\n",
      "torch.Size([32, 20, 5, 5])\n",
      "torch.Size([32, 20, 5, 5])\n",
      "torch.Size([32, 20, 5, 5])\n",
      "torch.Size([9, 20, 5, 5])\n",
      "torch.Size([32, 20, 5, 5])\n",
      "torch.Size([32, 20, 5, 5])\n",
      "torch.Size([32, 20, 5, 5])\n",
      "torch.Size([32, 20, 5, 5])\n",
      "torch.Size([32, 20, 5, 5])\n",
      "torch.Size([32, 20, 5, 5])\n",
      "torch.Size([32, 20, 5, 5])\n",
      "torch.Size([32, 20, 5, 5])\n",
      "torch.Size([32, 20, 5, 5])\n",
      "torch.Size([32, 20, 5, 5])\n",
      "torch.Size([32, 20, 5, 5])\n",
      "torch.Size([32, 20, 5, 5])\n",
      "torch.Size([32, 20, 5, 5])\n",
      "torch.Size([32, 20, 5, 5])\n",
      "torch.Size([32, 20, 5, 5])\n",
      "torch.Size([32, 20, 5, 5])\n",
      "torch.Size([32, 20, 5, 5])\n",
      "torch.Size([32, 20, 5, 5])\n",
      "torch.Size([32, 20, 5, 5])\n",
      "torch.Size([32, 20, 5, 5])\n",
      "torch.Size([32, 20, 5, 5])\n",
      "torch.Size([32, 20, 5, 5])\n",
      "torch.Size([32, 20, 5, 5])\n",
      "torch.Size([32, 20, 5, 5])\n",
      "torch.Size([32, 20, 5, 5])\n",
      "torch.Size([32, 20, 5, 5])\n",
      "torch.Size([32, 20, 5, 5])\n",
      "torch.Size([32, 20, 5, 5])\n",
      "torch.Size([32, 20, 5, 5])\n",
      "torch.Size([32, 20, 5, 5])\n",
      "torch.Size([32, 20, 5, 5])\n",
      "torch.Size([32, 20, 5, 5])\n",
      "torch.Size([32, 20, 5, 5])\n",
      "torch.Size([32, 20, 5, 5])\n",
      "torch.Size([32, 20, 5, 5])\n",
      "torch.Size([32, 20, 5, 5])\n",
      "torch.Size([32, 20, 5, 5])\n",
      "torch.Size([32, 20, 5, 5])\n",
      "torch.Size([32, 20, 5, 5])\n",
      "torch.Size([32, 20, 5, 5])\n",
      "torch.Size([32, 20, 5, 5])\n",
      "torch.Size([32, 20, 5, 5])\n",
      "torch.Size([32, 20, 5, 5])\n",
      "torch.Size([32, 20, 5, 5])\n",
      "torch.Size([32, 20, 5, 5])\n",
      "torch.Size([32, 20, 5, 5])\n",
      "torch.Size([28, 20, 5, 5])\n",
      "Epoch:1, Training Loss:2.5671, Validation Loss:2.6618\n",
      "torch.Size([32, 20, 5, 5])\n",
      "torch.Size([32, 20, 5, 5])\n",
      "torch.Size([32, 20, 5, 5])\n",
      "torch.Size([32, 20, 5, 5])\n",
      "torch.Size([32, 20, 5, 5])\n",
      "torch.Size([32, 20, 5, 5])\n",
      "torch.Size([32, 20, 5, 5])\n",
      "torch.Size([32, 20, 5, 5])\n",
      "torch.Size([32, 20, 5, 5])\n",
      "torch.Size([32, 20, 5, 5])\n",
      "torch.Size([32, 20, 5, 5])\n",
      "torch.Size([32, 20, 5, 5])\n",
      "torch.Size([32, 20, 5, 5])\n",
      "torch.Size([32, 20, 5, 5])\n",
      "torch.Size([32, 20, 5, 5])\n",
      "torch.Size([32, 20, 5, 5])\n",
      "torch.Size([32, 20, 5, 5])\n",
      "torch.Size([32, 20, 5, 5])\n",
      "torch.Size([32, 20, 5, 5])\n",
      "torch.Size([32, 20, 5, 5])\n",
      "torch.Size([32, 20, 5, 5])\n",
      "torch.Size([32, 20, 5, 5])\n",
      "torch.Size([32, 20, 5, 5])\n",
      "torch.Size([32, 20, 5, 5])\n",
      "torch.Size([32, 20, 5, 5])\n",
      "torch.Size([32, 20, 5, 5])\n",
      "torch.Size([32, 20, 5, 5])\n",
      "torch.Size([32, 20, 5, 5])\n",
      "torch.Size([32, 20, 5, 5])\n",
      "torch.Size([32, 20, 5, 5])\n",
      "torch.Size([32, 20, 5, 5])\n",
      "torch.Size([32, 20, 5, 5])\n",
      "torch.Size([32, 20, 5, 5])\n",
      "torch.Size([32, 20, 5, 5])\n",
      "torch.Size([32, 20, 5, 5])\n",
      "torch.Size([32, 20, 5, 5])\n",
      "torch.Size([32, 20, 5, 5])\n",
      "torch.Size([32, 20, 5, 5])\n",
      "torch.Size([32, 20, 5, 5])\n",
      "torch.Size([32, 20, 5, 5])\n",
      "torch.Size([32, 20, 5, 5])\n",
      "torch.Size([32, 20, 5, 5])\n",
      "torch.Size([32, 20, 5, 5])\n",
      "torch.Size([32, 20, 5, 5])\n",
      "torch.Size([32, 20, 5, 5])\n",
      "torch.Size([32, 20, 5, 5])\n",
      "torch.Size([32, 20, 5, 5])\n",
      "torch.Size([32, 20, 5, 5])\n",
      "torch.Size([32, 20, 5, 5])\n",
      "torch.Size([32, 20, 5, 5])\n",
      "torch.Size([32, 20, 5, 5])\n",
      "torch.Size([32, 20, 5, 5])\n",
      "torch.Size([32, 20, 5, 5])\n",
      "torch.Size([32, 20, 5, 5])\n",
      "torch.Size([32, 20, 5, 5])\n",
      "torch.Size([32, 20, 5, 5])\n",
      "torch.Size([32, 20, 5, 5])\n",
      "torch.Size([32, 20, 5, 5])\n"
     ]
    },
    {
     "ename": "KeyboardInterrupt",
     "evalue": "",
     "output_type": "error",
     "traceback": [
      "\u001b[1;31m---------------------------------------------------------------------------\u001b[0m",
      "\u001b[1;31mKeyboardInterrupt\u001b[0m                         Traceback (most recent call last)",
      "\u001b[1;32m<ipython-input-38-056a5bdf8f33>\u001b[0m in \u001b[0;36m<module>\u001b[1;34m\u001b[0m\n\u001b[0;32m      1\u001b[0m \u001b[1;32mimport\u001b[0m \u001b[0mtime\u001b[0m\u001b[1;33m\u001b[0m\u001b[1;33m\u001b[0m\u001b[0m\n\u001b[0;32m      2\u001b[0m \u001b[0msimple_net_start\u001b[0m \u001b[1;33m=\u001b[0m \u001b[0mtime\u001b[0m\u001b[1;33m.\u001b[0m\u001b[0mtime\u001b[0m\u001b[1;33m(\u001b[0m\u001b[1;33m)\u001b[0m\u001b[1;33m\u001b[0m\u001b[1;33m\u001b[0m\u001b[0m\n\u001b[1;32m----> 3\u001b[1;33m \u001b[0mtrainer\u001b[0m\u001b[1;33m.\u001b[0m\u001b[0mtrain\u001b[0m\u001b[1;33m(\u001b[0m\u001b[0mnum_epochs\u001b[0m\u001b[1;33m=\u001b[0m\u001b[1;36m30\u001b[0m\u001b[1;33m)\u001b[0m\u001b[1;33m\u001b[0m\u001b[1;33m\u001b[0m\u001b[0m\n\u001b[0m\u001b[0;32m      4\u001b[0m \u001b[0msimple_net_end\u001b[0m \u001b[1;33m=\u001b[0m \u001b[0mtime\u001b[0m\u001b[1;33m.\u001b[0m\u001b[0mtime\u001b[0m\u001b[1;33m(\u001b[0m\u001b[1;33m)\u001b[0m\u001b[1;33m\u001b[0m\u001b[1;33m\u001b[0m\u001b[0m\n\u001b[0;32m      5\u001b[0m \u001b[0mprint\u001b[0m\u001b[1;33m(\u001b[0m\u001b[1;34m\"The training time taken for simple net is {:.9f}\"\u001b[0m\u001b[1;33m.\u001b[0m\u001b[0mformat\u001b[0m\u001b[1;33m(\u001b[0m\u001b[0msimple_net_end\u001b[0m\u001b[1;33m-\u001b[0m\u001b[0msimple_net_start\u001b[0m\u001b[1;33m)\u001b[0m\u001b[1;33m)\u001b[0m\u001b[1;33m\u001b[0m\u001b[1;33m\u001b[0m\u001b[0m\n",
      "\u001b[1;32mc:\\users\\sherry\\desktop\\cs 6476\\proj2_code\\runner.py\u001b[0m in \u001b[0;36mtrain\u001b[1;34m(self, num_epochs)\u001b[0m\n\u001b[0;32m     93\u001b[0m     \u001b[1;32mfor\u001b[0m \u001b[0mepoch_idx\u001b[0m \u001b[1;32min\u001b[0m \u001b[0mrange\u001b[0m\u001b[1;33m(\u001b[0m\u001b[0mnum_epochs\u001b[0m\u001b[1;33m)\u001b[0m\u001b[1;33m:\u001b[0m\u001b[1;33m\u001b[0m\u001b[1;33m\u001b[0m\u001b[0m\n\u001b[0;32m     94\u001b[0m       \u001b[0mself\u001b[0m\u001b[1;33m.\u001b[0m\u001b[0mmodel\u001b[0m\u001b[1;33m.\u001b[0m\u001b[0mtrain\u001b[0m\u001b[1;33m(\u001b[0m\u001b[1;33m)\u001b[0m\u001b[1;33m\u001b[0m\u001b[1;33m\u001b[0m\u001b[0m\n\u001b[1;32m---> 95\u001b[1;33m       \u001b[1;32mfor\u001b[0m \u001b[0m_\u001b[0m\u001b[1;33m,\u001b[0m \u001b[0mbatch\u001b[0m \u001b[1;32min\u001b[0m \u001b[0menumerate\u001b[0m\u001b[1;33m(\u001b[0m\u001b[0mself\u001b[0m\u001b[1;33m.\u001b[0m\u001b[0mtrain_loader\u001b[0m\u001b[1;33m)\u001b[0m\u001b[1;33m:\u001b[0m\u001b[1;33m\u001b[0m\u001b[1;33m\u001b[0m\u001b[0m\n\u001b[0m\u001b[0;32m     96\u001b[0m         \u001b[1;32mif\u001b[0m \u001b[0mself\u001b[0m\u001b[1;33m.\u001b[0m\u001b[0mcuda\u001b[0m\u001b[1;33m:\u001b[0m\u001b[1;33m\u001b[0m\u001b[1;33m\u001b[0m\u001b[0m\n\u001b[0;32m     97\u001b[0m           input_data, target_data = Variable(\n",
      "\u001b[1;32m~\\miniconda3\\envs\\proj2\\lib\\site-packages\\torch\\utils\\data\\dataloader.py\u001b[0m in \u001b[0;36m__next__\u001b[1;34m(self)\u001b[0m\n\u001b[0;32m    361\u001b[0m \u001b[1;33m\u001b[0m\u001b[0m\n\u001b[0;32m    362\u001b[0m     \u001b[1;32mdef\u001b[0m \u001b[0m__next__\u001b[0m\u001b[1;33m(\u001b[0m\u001b[0mself\u001b[0m\u001b[1;33m)\u001b[0m\u001b[1;33m:\u001b[0m\u001b[1;33m\u001b[0m\u001b[1;33m\u001b[0m\u001b[0m\n\u001b[1;32m--> 363\u001b[1;33m         \u001b[0mdata\u001b[0m \u001b[1;33m=\u001b[0m \u001b[0mself\u001b[0m\u001b[1;33m.\u001b[0m\u001b[0m_next_data\u001b[0m\u001b[1;33m(\u001b[0m\u001b[1;33m)\u001b[0m\u001b[1;33m\u001b[0m\u001b[1;33m\u001b[0m\u001b[0m\n\u001b[0m\u001b[0;32m    364\u001b[0m         \u001b[0mself\u001b[0m\u001b[1;33m.\u001b[0m\u001b[0m_num_yielded\u001b[0m \u001b[1;33m+=\u001b[0m \u001b[1;36m1\u001b[0m\u001b[1;33m\u001b[0m\u001b[1;33m\u001b[0m\u001b[0m\n\u001b[0;32m    365\u001b[0m         \u001b[1;32mif\u001b[0m \u001b[0mself\u001b[0m\u001b[1;33m.\u001b[0m\u001b[0m_dataset_kind\u001b[0m \u001b[1;33m==\u001b[0m \u001b[0m_DatasetKind\u001b[0m\u001b[1;33m.\u001b[0m\u001b[0mIterable\u001b[0m \u001b[1;32mand\u001b[0m\u001b[0;31m \u001b[0m\u001b[0;31m\\\u001b[0m\u001b[1;33m\u001b[0m\u001b[1;33m\u001b[0m\u001b[0m\n",
      "\u001b[1;32m~\\miniconda3\\envs\\proj2\\lib\\site-packages\\torch\\utils\\data\\dataloader.py\u001b[0m in \u001b[0;36m_next_data\u001b[1;34m(self)\u001b[0m\n\u001b[0;32m    401\u001b[0m     \u001b[1;32mdef\u001b[0m \u001b[0m_next_data\u001b[0m\u001b[1;33m(\u001b[0m\u001b[0mself\u001b[0m\u001b[1;33m)\u001b[0m\u001b[1;33m:\u001b[0m\u001b[1;33m\u001b[0m\u001b[1;33m\u001b[0m\u001b[0m\n\u001b[0;32m    402\u001b[0m         \u001b[0mindex\u001b[0m \u001b[1;33m=\u001b[0m \u001b[0mself\u001b[0m\u001b[1;33m.\u001b[0m\u001b[0m_next_index\u001b[0m\u001b[1;33m(\u001b[0m\u001b[1;33m)\u001b[0m  \u001b[1;31m# may raise StopIteration\u001b[0m\u001b[1;33m\u001b[0m\u001b[1;33m\u001b[0m\u001b[0m\n\u001b[1;32m--> 403\u001b[1;33m         \u001b[0mdata\u001b[0m \u001b[1;33m=\u001b[0m \u001b[0mself\u001b[0m\u001b[1;33m.\u001b[0m\u001b[0m_dataset_fetcher\u001b[0m\u001b[1;33m.\u001b[0m\u001b[0mfetch\u001b[0m\u001b[1;33m(\u001b[0m\u001b[0mindex\u001b[0m\u001b[1;33m)\u001b[0m  \u001b[1;31m# may raise StopIteration\u001b[0m\u001b[1;33m\u001b[0m\u001b[1;33m\u001b[0m\u001b[0m\n\u001b[0m\u001b[0;32m    404\u001b[0m         \u001b[1;32mif\u001b[0m \u001b[0mself\u001b[0m\u001b[1;33m.\u001b[0m\u001b[0m_pin_memory\u001b[0m\u001b[1;33m:\u001b[0m\u001b[1;33m\u001b[0m\u001b[1;33m\u001b[0m\u001b[0m\n\u001b[0;32m    405\u001b[0m             \u001b[0mdata\u001b[0m \u001b[1;33m=\u001b[0m \u001b[0m_utils\u001b[0m\u001b[1;33m.\u001b[0m\u001b[0mpin_memory\u001b[0m\u001b[1;33m.\u001b[0m\u001b[0mpin_memory\u001b[0m\u001b[1;33m(\u001b[0m\u001b[0mdata\u001b[0m\u001b[1;33m)\u001b[0m\u001b[1;33m\u001b[0m\u001b[1;33m\u001b[0m\u001b[0m\n",
      "\u001b[1;32m~\\miniconda3\\envs\\proj2\\lib\\site-packages\\torch\\utils\\data\\_utils\\fetch.py\u001b[0m in \u001b[0;36mfetch\u001b[1;34m(self, possibly_batched_index)\u001b[0m\n\u001b[0;32m     42\u001b[0m     \u001b[1;32mdef\u001b[0m \u001b[0mfetch\u001b[0m\u001b[1;33m(\u001b[0m\u001b[0mself\u001b[0m\u001b[1;33m,\u001b[0m \u001b[0mpossibly_batched_index\u001b[0m\u001b[1;33m)\u001b[0m\u001b[1;33m:\u001b[0m\u001b[1;33m\u001b[0m\u001b[1;33m\u001b[0m\u001b[0m\n\u001b[0;32m     43\u001b[0m         \u001b[1;32mif\u001b[0m \u001b[0mself\u001b[0m\u001b[1;33m.\u001b[0m\u001b[0mauto_collation\u001b[0m\u001b[1;33m:\u001b[0m\u001b[1;33m\u001b[0m\u001b[1;33m\u001b[0m\u001b[0m\n\u001b[1;32m---> 44\u001b[1;33m             \u001b[0mdata\u001b[0m \u001b[1;33m=\u001b[0m \u001b[1;33m[\u001b[0m\u001b[0mself\u001b[0m\u001b[1;33m.\u001b[0m\u001b[0mdataset\u001b[0m\u001b[1;33m[\u001b[0m\u001b[0midx\u001b[0m\u001b[1;33m]\u001b[0m \u001b[1;32mfor\u001b[0m \u001b[0midx\u001b[0m \u001b[1;32min\u001b[0m \u001b[0mpossibly_batched_index\u001b[0m\u001b[1;33m]\u001b[0m\u001b[1;33m\u001b[0m\u001b[1;33m\u001b[0m\u001b[0m\n\u001b[0m\u001b[0;32m     45\u001b[0m         \u001b[1;32melse\u001b[0m\u001b[1;33m:\u001b[0m\u001b[1;33m\u001b[0m\u001b[1;33m\u001b[0m\u001b[0m\n\u001b[0;32m     46\u001b[0m             \u001b[0mdata\u001b[0m \u001b[1;33m=\u001b[0m \u001b[0mself\u001b[0m\u001b[1;33m.\u001b[0m\u001b[0mdataset\u001b[0m\u001b[1;33m[\u001b[0m\u001b[0mpossibly_batched_index\u001b[0m\u001b[1;33m]\u001b[0m\u001b[1;33m\u001b[0m\u001b[1;33m\u001b[0m\u001b[0m\n",
      "\u001b[1;32m~\\miniconda3\\envs\\proj2\\lib\\site-packages\\torch\\utils\\data\\_utils\\fetch.py\u001b[0m in \u001b[0;36m<listcomp>\u001b[1;34m(.0)\u001b[0m\n\u001b[0;32m     42\u001b[0m     \u001b[1;32mdef\u001b[0m \u001b[0mfetch\u001b[0m\u001b[1;33m(\u001b[0m\u001b[0mself\u001b[0m\u001b[1;33m,\u001b[0m \u001b[0mpossibly_batched_index\u001b[0m\u001b[1;33m)\u001b[0m\u001b[1;33m:\u001b[0m\u001b[1;33m\u001b[0m\u001b[1;33m\u001b[0m\u001b[0m\n\u001b[0;32m     43\u001b[0m         \u001b[1;32mif\u001b[0m \u001b[0mself\u001b[0m\u001b[1;33m.\u001b[0m\u001b[0mauto_collation\u001b[0m\u001b[1;33m:\u001b[0m\u001b[1;33m\u001b[0m\u001b[1;33m\u001b[0m\u001b[0m\n\u001b[1;32m---> 44\u001b[1;33m             \u001b[0mdata\u001b[0m \u001b[1;33m=\u001b[0m \u001b[1;33m[\u001b[0m\u001b[0mself\u001b[0m\u001b[1;33m.\u001b[0m\u001b[0mdataset\u001b[0m\u001b[1;33m[\u001b[0m\u001b[0midx\u001b[0m\u001b[1;33m]\u001b[0m \u001b[1;32mfor\u001b[0m \u001b[0midx\u001b[0m \u001b[1;32min\u001b[0m \u001b[0mpossibly_batched_index\u001b[0m\u001b[1;33m]\u001b[0m\u001b[1;33m\u001b[0m\u001b[1;33m\u001b[0m\u001b[0m\n\u001b[0m\u001b[0;32m     45\u001b[0m         \u001b[1;32melse\u001b[0m\u001b[1;33m:\u001b[0m\u001b[1;33m\u001b[0m\u001b[1;33m\u001b[0m\u001b[0m\n\u001b[0;32m     46\u001b[0m             \u001b[0mdata\u001b[0m \u001b[1;33m=\u001b[0m \u001b[0mself\u001b[0m\u001b[1;33m.\u001b[0m\u001b[0mdataset\u001b[0m\u001b[1;33m[\u001b[0m\u001b[0mpossibly_batched_index\u001b[0m\u001b[1;33m]\u001b[0m\u001b[1;33m\u001b[0m\u001b[1;33m\u001b[0m\u001b[0m\n",
      "\u001b[1;32mc:\\users\\sherry\\desktop\\cs 6476\\proj2_code\\image_loader.py\u001b[0m in \u001b[0;36m__getitem__\u001b[1;34m(self, index)\u001b[0m\n\u001b[0;32m    156\u001b[0m     \u001b[1;31m# raise NotImplementedError\u001b[0m\u001b[1;33m\u001b[0m\u001b[1;33m\u001b[0m\u001b[1;33m\u001b[0m\u001b[0m\n\u001b[0;32m    157\u001b[0m     \u001b[0mfilepath\u001b[0m\u001b[1;33m,\u001b[0m \u001b[0mclass_idx\u001b[0m \u001b[1;33m=\u001b[0m \u001b[0mself\u001b[0m\u001b[1;33m.\u001b[0m\u001b[0mdataset\u001b[0m\u001b[1;33m[\u001b[0m\u001b[0mindex\u001b[0m\u001b[1;33m]\u001b[0m\u001b[1;33m\u001b[0m\u001b[1;33m\u001b[0m\u001b[0m\n\u001b[1;32m--> 158\u001b[1;33m     \u001b[0mimgPIL\u001b[0m \u001b[1;33m=\u001b[0m \u001b[0mself\u001b[0m\u001b[1;33m.\u001b[0m\u001b[0mload_img_from_path\u001b[0m\u001b[1;33m(\u001b[0m\u001b[0mfilepath\u001b[0m\u001b[1;33m)\u001b[0m\u001b[1;33m\u001b[0m\u001b[1;33m\u001b[0m\u001b[0m\n\u001b[0m\u001b[0;32m    159\u001b[0m     \u001b[1;31m# imgTensor = torchvision.transforms.ToTensor()(imgPIL)\u001b[0m\u001b[1;33m\u001b[0m\u001b[1;33m\u001b[0m\u001b[1;33m\u001b[0m\u001b[0m\n\u001b[0;32m    160\u001b[0m     \u001b[1;32mif\u001b[0m \u001b[0mself\u001b[0m\u001b[1;33m.\u001b[0m\u001b[0mtransform\u001b[0m \u001b[1;32mis\u001b[0m \u001b[1;32mnot\u001b[0m \u001b[1;32mNone\u001b[0m\u001b[1;33m:\u001b[0m\u001b[1;33m\u001b[0m\u001b[1;33m\u001b[0m\u001b[0m\n",
      "\u001b[1;32mc:\\users\\sherry\\desktop\\cs 6476\\proj2_code\\image_loader.py\u001b[0m in \u001b[0;36mload_img_from_path\u001b[1;34m(self, path)\u001b[0m\n\u001b[0;32m    124\u001b[0m     \u001b[1;31m############################################################################\u001b[0m\u001b[1;33m\u001b[0m\u001b[1;33m\u001b[0m\u001b[1;33m\u001b[0m\u001b[0m\n\u001b[0;32m    125\u001b[0m \u001b[1;33m\u001b[0m\u001b[0m\n\u001b[1;32m--> 126\u001b[1;33m     \u001b[0mimg\u001b[0m \u001b[1;33m=\u001b[0m \u001b[0mImage\u001b[0m\u001b[1;33m.\u001b[0m\u001b[0mopen\u001b[0m\u001b[1;33m(\u001b[0m\u001b[0mpath\u001b[0m\u001b[1;33m)\u001b[0m\u001b[1;33m.\u001b[0m\u001b[0mconvert\u001b[0m\u001b[1;33m(\u001b[0m\u001b[1;34m'L'\u001b[0m\u001b[1;33m)\u001b[0m\u001b[1;33m\u001b[0m\u001b[1;33m\u001b[0m\u001b[0m\n\u001b[0m\u001b[0;32m    127\u001b[0m     \u001b[1;31m# raise NotImplementedError\u001b[0m\u001b[1;33m\u001b[0m\u001b[1;33m\u001b[0m\u001b[1;33m\u001b[0m\u001b[0m\n\u001b[0;32m    128\u001b[0m     \u001b[1;31m############################################################################\u001b[0m\u001b[1;33m\u001b[0m\u001b[1;33m\u001b[0m\u001b[1;33m\u001b[0m\u001b[0m\n",
      "\u001b[1;32m~\\miniconda3\\envs\\proj2\\lib\\site-packages\\PIL\\Image.py\u001b[0m in \u001b[0;36mconvert\u001b[1;34m(self, mode, matrix, dither, palette, colors)\u001b[0m\n\u001b[0;32m    900\u001b[0m         \"\"\"\n\u001b[0;32m    901\u001b[0m \u001b[1;33m\u001b[0m\u001b[0m\n\u001b[1;32m--> 902\u001b[1;33m         \u001b[0mself\u001b[0m\u001b[1;33m.\u001b[0m\u001b[0mload\u001b[0m\u001b[1;33m(\u001b[0m\u001b[1;33m)\u001b[0m\u001b[1;33m\u001b[0m\u001b[1;33m\u001b[0m\u001b[0m\n\u001b[0m\u001b[0;32m    903\u001b[0m \u001b[1;33m\u001b[0m\u001b[0m\n\u001b[0;32m    904\u001b[0m         \u001b[1;32mif\u001b[0m \u001b[1;32mnot\u001b[0m \u001b[0mmode\u001b[0m \u001b[1;32mand\u001b[0m \u001b[0mself\u001b[0m\u001b[1;33m.\u001b[0m\u001b[0mmode\u001b[0m \u001b[1;33m==\u001b[0m \u001b[1;34m\"P\"\u001b[0m\u001b[1;33m:\u001b[0m\u001b[1;33m\u001b[0m\u001b[1;33m\u001b[0m\u001b[0m\n",
      "\u001b[1;32m~\\miniconda3\\envs\\proj2\\lib\\site-packages\\PIL\\ImageFile.py\u001b[0m in \u001b[0;36mload\u001b[1;34m(self)\u001b[0m\n\u001b[0;32m    259\u001b[0m \u001b[1;33m\u001b[0m\u001b[0m\n\u001b[0;32m    260\u001b[0m                             \u001b[0mb\u001b[0m \u001b[1;33m=\u001b[0m \u001b[0mb\u001b[0m \u001b[1;33m+\u001b[0m \u001b[0ms\u001b[0m\u001b[1;33m\u001b[0m\u001b[1;33m\u001b[0m\u001b[0m\n\u001b[1;32m--> 261\u001b[1;33m                             \u001b[0mn\u001b[0m\u001b[1;33m,\u001b[0m \u001b[0merr_code\u001b[0m \u001b[1;33m=\u001b[0m \u001b[0mdecoder\u001b[0m\u001b[1;33m.\u001b[0m\u001b[0mdecode\u001b[0m\u001b[1;33m(\u001b[0m\u001b[0mb\u001b[0m\u001b[1;33m)\u001b[0m\u001b[1;33m\u001b[0m\u001b[1;33m\u001b[0m\u001b[0m\n\u001b[0m\u001b[0;32m    262\u001b[0m                             \u001b[1;32mif\u001b[0m \u001b[0mn\u001b[0m \u001b[1;33m<\u001b[0m \u001b[1;36m0\u001b[0m\u001b[1;33m:\u001b[0m\u001b[1;33m\u001b[0m\u001b[1;33m\u001b[0m\u001b[0m\n\u001b[0;32m    263\u001b[0m                                 \u001b[1;32mbreak\u001b[0m\u001b[1;33m\u001b[0m\u001b[1;33m\u001b[0m\u001b[0m\n",
      "\u001b[1;31mKeyboardInterrupt\u001b[0m: "
     ]
    }
   ],
   "source": [
    "import time\n",
    "simple_net_start = time.time()\n",
    "trainer.train(num_epochs=30)\n",
    "simple_net_end = time.time()\n",
    "print(\"The training time taken for simple net is {:.9f}\".format(simple_net_end-simple_net_start))"
   ]
  },
  {
   "cell_type": "markdown",
   "metadata": {
    "colab_type": "text",
    "id": "jv1T8xv2TdmR"
   },
   "source": [
    "Now let's have your model predict on some examples and see how well it performs qualitatively. You should try the following cell multiple times to understand whats happening."
   ]
  },
  {
   "cell_type": "code",
   "execution_count": null,
   "metadata": {
    "colab": {
     "base_uri": "https://localhost:8080/",
     "height": 314
    },
    "colab_type": "code",
    "id": "thCGob3JTdmR",
    "outputId": "1629bc1c-8972-46ce-8cdb-0b420c0337cb"
   },
   "outputs": [],
   "source": [
    "# visualize train split\n",
    "print(\"Examples from train split:\")\n",
    "visualize(simple_model, 'train', get_fundamental_transforms(inp_size, dataset_mean, dataset_std), data_base_path)"
   ]
  },
  {
   "cell_type": "code",
   "execution_count": null,
   "metadata": {
    "colab": {
     "base_uri": "https://localhost:8080/",
     "height": 304
    },
    "colab_type": "code",
    "id": "QQbkZhjlTdmU",
    "outputId": "d227b903-2c31-4a5e-b3b2-8ade627c0791"
   },
   "outputs": [],
   "source": [
    "# visualize test split\n",
    "print(\"Examples from test split:\")\n",
    "visualize(simple_model, 'test', get_fundamental_transforms(inp_size, dataset_mean, dataset_std), data_base_path)"
   ]
  },
  {
   "cell_type": "code",
   "execution_count": null,
   "metadata": {
    "colab": {
     "base_uri": "https://localhost:8080/",
     "height": 573
    },
    "colab_type": "code",
    "id": "z0b_WwJhBpGf",
    "outputId": "3d80145a-dd14-40fd-f30c-9f47ac0f4d75",
    "scrolled": true
   },
   "outputs": [],
   "source": [
    "trainer.plot_loss_history()\n",
    "trainer.plot_accuracy()"
   ]
  },
  {
   "cell_type": "code",
   "execution_count": null,
   "metadata": {
    "colab": {
     "base_uri": "https://localhost:8080/",
     "height": 34
    },
    "colab_type": "code",
    "id": "8epn0IBmBpGn",
    "outputId": "23555727-ed23-490d-ddfc-783fa439101d",
    "scrolled": true
   },
   "outputs": [],
   "source": [
    "train_accuracy = trainer.train_accuracy_history[-1]\n",
    "validation_accuracy = trainer.validation_accuracy_history[-1]\n",
    "print('Train Accuracy = {:.4f}; Validation Accuracy = {:.4f}'.format(train_accuracy, validation_accuracy))"
   ]
  },
  {
   "cell_type": "code",
   "execution_count": 98,
   "metadata": {
    "colab": {
     "base_uri": "https://localhost:8080/",
     "height": 34
    },
    "colab_type": "code",
    "id": "CQKKbNc2haCZ",
    "outputId": "8ef542c8-409c-4ed2-840f-198a711e66e1"
   },
   "outputs": [
    {
     "name": "stdout",
     "output_type": "stream",
     "text": [
      "Testing simple net weights saved:  \u001b[32m\"Correct\"\u001b[0m\n"
     ]
    }
   ],
   "source": [
    "print('Testing simple net weights saved: ', verify(test_simple_net_checkpoint))"
   ]
  },
  {
   "cell_type": "markdown",
   "metadata": {
    "colab_type": "text",
    "id": "gWNCMmRzTdmc"
   },
   "source": [
    "After you have finished the training process, now plot out the loss and accuracy history. You can also check out the final accuracy for both training and validation data. Copy the accuracy plots and values onto the report, and answer the questions there. \n",
    "\n",
    "**TODO 10:** Obtain a **45%** validation accuracy to receive full credits for Part 1. You can go back to TODO 8 first to tune your paramters for optimization using the following tips:\n",
    "\n",
    "**Tips**:\n",
    "1. If the loss decreases very slowly, try increasing the value of the lr (learning rate).\n",
    "2. Initially keep the value of weight decay (L2-regulization) very low.\n",
    "3. Try to first adjust lr in multiples of 3 initially. When you are close to reasonable performance, do a more granular adjustment.\n",
    "4. If you want to increase the validation accuracy by a little bit, try increasing the weight_decay to prevent overfitting. Do not use tricks from Section 6 just yet.\n",
    "\n",
    "If you still need to tweak the model architecture, you are free to do so. But remember complex models will require more time to train, and TAs could achieve ~50% accuracy with the described model."
   ]
  },
  {
   "cell_type": "markdown",
   "metadata": {
    "colab_type": "text",
    "id": "G7hE1vidBpGt"
   },
   "source": [
    "## 6 Solving overfitting\n",
    "We have obtained a 45% accuracy on the validation data with a simple model; Feeling even better for the training accuracy right? More than 90% (if you have implemented everything correctly). But should you?\n",
    "\n",
    "Our final accuracies for training and validation data differ a lot from each other, which indicates that the model we have defined **fits too well with the training data, but is unable to generalize well on data it has not trained on**: this is often regarded as **overfitting**. In this section we are going to apply 2 techniques to tackle with it: adjusting both data and model.\n",
    "\n",
    "### 6.1 Jitter, Random Flip, and Normalization\n",
    "One common technique to increase the \"variability\" of the data is to **augment** it. Firstly, we don't have a huge amount of data, so let's \"jitter\" it; secondly, when you mirror an image of a **kitchen**, you can tell that the mirrored image is still a kitchen. \n",
    "\n",
    "**TODO 11:** finish the `get_data_augmentation_transforms()` function in `data_transforms.py`: you should first copy your existing fundamental transform implementation into this function, and then insert a couple of other transforms which help you do the above adjustment\n",
    "\n",
    "You are free to experiment with different kinds of augmentation techniques by adding new techniques or replacing existing techniques"
   ]
  },
  {
   "cell_type": "code",
   "execution_count": 39,
   "metadata": {
    "colab": {},
    "colab_type": "code",
    "id": "Ech4Y22OXOui"
   },
   "outputs": [],
   "source": [
    "inp_size = (64,64)"
   ]
  },
  {
   "cell_type": "markdown",
   "metadata": {
    "colab_type": "text",
    "id": "06cXE2wkTdmg"
   },
   "source": [
    "### 6.2 Dropout\n",
    "\"Dropout\" is a technique commonly used to regularize the network. It randomly turns off the connection between neurons inside the network and prevent the network from relying too much on a specific neuron. \n",
    "\n",
    "**TODO 12:** finish the `simple_net_dropout.py` with your previous SimpleNet model, plus the dropout layer."
   ]
  },
  {
   "cell_type": "code",
   "execution_count": 40,
   "metadata": {
    "colab": {
     "base_uri": "https://localhost:8080/",
     "height": 34
    },
    "colab_type": "code",
    "id": "adEPCL3QTdmi",
    "outputId": "370d27dc-8c72-4f4f-af1f-172c0a68cd15",
    "scrolled": true
   },
   "outputs": [
    {
     "name": "stdout",
     "output_type": "stream",
     "text": [
      "Testing your SimpleNetDropout architecture:  \u001b[32m\"Correct\"\u001b[0m\n"
     ]
    }
   ],
   "source": [
    "print(\"Testing your SimpleNetDropout architecture: \", verify(test_simple_net_dropout))"
   ]
  },
  {
   "cell_type": "code",
   "execution_count": 69,
   "metadata": {
    "colab": {
     "base_uri": "https://localhost:8080/",
     "height": 330
    },
    "colab_type": "code",
    "id": "nlgm5eM-BpGz",
    "outputId": "d0cf7323-6648-4c3c-9410-09d04e76c40a"
   },
   "outputs": [
    {
     "name": "stdout",
     "output_type": "stream",
     "text": [
      "SimpleNetDropout(\n",
      "  (cnn_layers): Sequential(\n",
      "    (conv_1): Conv2d(1, 10, kernel_size=(5, 5), stride=(1, 1))\n",
      "    (maxpool_1): MaxPool2d(kernel_size=3, stride=3, padding=0, dilation=1, ceil_mode=False)\n",
      "    (relu_1): ReLU()\n",
      "    (conv_2): Conv2d(10, 20, kernel_size=(5, 5), stride=(1, 1))\n",
      "    (maxpool_2): MaxPool2d(kernel_size=3, stride=3, padding=0, dilation=1, ceil_mode=False)\n",
      "    (relu_2): ReLU()\n",
      "  )\n",
      "  (fc_layers): Sequential(\n",
      "    (Flatten): Flatten()\n",
      "    (fc1): Linear(in_features=500, out_features=100, bias=True)\n",
      "    (dropout1): Dropout(p=0.5, inplace=False)\n",
      "    (fc2): Linear(in_features=100, out_features=15, bias=True)\n",
      "  )\n",
      "  (loss_criterion): CrossEntropyLoss()\n",
      ")\n"
     ]
    }
   ],
   "source": [
    "simple_model_dropout = SimpleNetDropout()\n",
    "print(simple_model_dropout)"
   ]
  },
  {
   "cell_type": "markdown",
   "metadata": {
    "colab_type": "text",
    "id": "kmmpMDRBTdmm"
   },
   "source": [
    "Similar to the previous part, **initialize the following cell with proper values for learning rate and weight decay**."
   ]
  },
  {
   "cell_type": "code",
   "execution_count": 70,
   "metadata": {
    "colab": {},
    "colab_type": "code",
    "id": "btKIvIrdBpG5"
   },
   "outputs": [],
   "source": [
    "# TODO: add a decent initial setting and tune from there\n",
    "optimizer_config = {\n",
    "  \"optimizer_type\": \"adam\",\n",
    "  \"lr\": 0.001,\n",
    "  \"weight_decay\": 1e-5\n",
    "}"
   ]
  },
  {
   "cell_type": "code",
   "execution_count": 71,
   "metadata": {
    "colab": {},
    "colab_type": "code",
    "id": "ExoLylurBpHH"
   },
   "outputs": [],
   "source": [
    "simple_model_dropout = SimpleNetDropout()\n",
    "optimizer = get_optimizer(simple_model_dropout, optimizer_config)\n",
    "\n",
    "trainer = Trainer(data_dir=data_base_path, \n",
    "                  model = simple_model_dropout,\n",
    "                  optimizer = optimizer,\n",
    "                  model_dir = os.path.join(model_base_path, 'simple_net_dropout'),\n",
    "                  train_data_transforms = get_data_augmentation_transforms(inp_size, dataset_mean, dataset_std),\n",
    "                  test_data_transforms = get_fundamental_transforms(inp_size, dataset_mean, dataset_std),\n",
    "                  batch_size = 32,\n",
    "                  load_from_disk = False,\n",
    "                  cuda = is_cuda\n",
    "                 )"
   ]
  },
  {
   "cell_type": "markdown",
   "metadata": {
    "colab_type": "text",
    "id": "zq2__3ZQTdmt"
   },
   "source": [
    "The following cell will take longer than Part 1, as now we have more data (and more variability), and the model is slightly more complicated than before as well; however, it should finish within 10~15 minutes anyway, and the default `num_epochs` is also good enough as a starting point for you to pass this part."
   ]
  },
  {
   "cell_type": "code",
   "execution_count": 72,
   "metadata": {
    "colab": {
     "base_uri": "https://localhost:8080/",
     "height": 555
    },
    "colab_type": "code",
    "id": "-ljUl4UnBpHN",
    "outputId": "8f6c2e23-917b-483e-a4c5-01015a84d480",
    "scrolled": true
   },
   "outputs": [
    {
     "name": "stdout",
     "output_type": "stream",
     "text": [
      "Epoch:0, Training Loss:2.7286, Validation Loss:2.7168\n",
      "Epoch:1, Training Loss:2.3242, Validation Loss:2.3897\n",
      "Epoch:2, Training Loss:1.9557, Validation Loss:2.0385\n",
      "Epoch:3, Training Loss:1.7730, Validation Loss:1.8902\n",
      "Epoch:4, Training Loss:1.6648, Validation Loss:1.7955\n",
      "Epoch:5, Training Loss:1.6281, Validation Loss:1.7677\n",
      "Epoch:6, Training Loss:1.5601, Validation Loss:1.7186\n",
      "Epoch:7, Training Loss:1.4721, Validation Loss:1.6206\n",
      "Epoch:8, Training Loss:1.4337, Validation Loss:1.6369\n",
      "Epoch:9, Training Loss:1.3510, Validation Loss:1.5812\n",
      "Epoch:10, Training Loss:1.2799, Validation Loss:1.4782\n",
      "Epoch:11, Training Loss:1.2244, Validation Loss:1.4134\n",
      "Epoch:12, Training Loss:1.1839, Validation Loss:1.3885\n",
      "Epoch:13, Training Loss:1.1468, Validation Loss:1.4248\n",
      "Epoch:14, Training Loss:1.1410, Validation Loss:1.3818\n",
      "Epoch:15, Training Loss:1.0648, Validation Loss:1.3135\n",
      "Epoch:16, Training Loss:1.0894, Validation Loss:1.3572\n",
      "Epoch:17, Training Loss:1.0328, Validation Loss:1.4011\n",
      "Epoch:18, Training Loss:1.0140, Validation Loss:1.3507\n",
      "Epoch:19, Training Loss:0.9598, Validation Loss:1.3079\n",
      "Epoch:20, Training Loss:0.9643, Validation Loss:1.3613\n",
      "Epoch:21, Training Loss:0.9008, Validation Loss:1.3587\n",
      "Epoch:22, Training Loss:0.9447, Validation Loss:1.4087\n",
      "Epoch:23, Training Loss:0.8567, Validation Loss:1.3039\n",
      "Epoch:24, Training Loss:0.9361, Validation Loss:1.3679\n",
      "Epoch:25, Training Loss:0.8149, Validation Loss:1.2971\n",
      "Epoch:26, Training Loss:1.0047, Validation Loss:1.4451\n",
      "Epoch:27, Training Loss:0.7765, Validation Loss:1.2939\n",
      "Epoch:28, Training Loss:0.8125, Validation Loss:1.3139\n",
      "Epoch:29, Training Loss:0.7610, Validation Loss:1.2565\n",
      "Epoch:30, Training Loss:0.7872, Validation Loss:1.2922\n"
     ]
    }
   ],
   "source": [
    "trainer.train(num_epochs=30)"
   ]
  },
  {
   "cell_type": "markdown",
   "metadata": {
    "colab_type": "text",
    "id": "n3yOROVGTdmy"
   },
   "source": [
    "Now let's have your model predict on some examples and see how well it performs qualitatively."
   ]
  },
  {
   "cell_type": "code",
   "execution_count": 73,
   "metadata": {
    "colab": {},
    "colab_type": "code",
    "id": "732LGRJCftzL"
   },
   "outputs": [
    {
     "name": "stdout",
     "output_type": "stream",
     "text": [
      "Examples from train split:\n"
     ]
    },
    {
     "data": {
      "image/png": "[encoded data removed]",
      "text/plain": [
       "<Figure size 432x288 with 4 Axes>"
      ]
     },
     "metadata": {
      "needs_background": "light"
     },
     "output_type": "display_data"
    }
   ],
   "source": [
    "# # visualize train split\n",
    "print(\"Examples from train split:\")\n",
    "visualize(simple_model_dropout, 'train', get_fundamental_transforms(inp_size, dataset_mean, dataset_std))"
   ]
  },
  {
   "cell_type": "code",
   "execution_count": 74,
   "metadata": {
    "colab": {},
    "colab_type": "code",
    "id": "Jum7rI93Tdm0"
   },
   "outputs": [
    {
     "name": "stdout",
     "output_type": "stream",
     "text": [
      "Examples from test split:\n"
     ]
    },
    {
     "data": {
      "image/png": "[encoded data removed]",
      "text/plain": [
       "<Figure size 432x288 with 4 Axes>"
      ]
     },
     "metadata": {
      "needs_background": "light"
     },
     "output_type": "display_data"
    }
   ],
   "source": [
    "# # visualize test split\n",
    "print(\"Examples from test split:\")\n",
    "visualize(simple_model_dropout, 'test', get_fundamental_transforms(inp_size, dataset_mean, dataset_std))"
   ]
  },
  {
   "cell_type": "code",
   "execution_count": 75,
   "metadata": {
    "colab": {
     "base_uri": "https://localhost:8080/",
     "height": 573
    },
    "colab_type": "code",
    "id": "Gdh9AvHIBpHW",
    "outputId": "95f03c53-13c8-41b3-bb40-0da8262cb685",
    "scrolled": true
   },
   "outputs": [
    {
     "data": {
      "image/png": "[encoded data removed]",
      "text/plain": [
       "<Figure size 432x288 with 1 Axes>"
      ]
     },
     "metadata": {
      "needs_background": "light"
     },
     "output_type": "display_data"
    },
    {
     "data": {
      "image/png": "[encoded data removed]",
      "text/plain": [
       "<Figure size 432x288 with 1 Axes>"
      ]
     },
     "metadata": {
      "needs_background": "light"
     },
     "output_type": "display_data"
    }
   ],
   "source": [
    "trainer.plot_loss_history()\n",
    "trainer.plot_accuracy()"
   ]
  },
  {
   "cell_type": "code",
   "execution_count": 76,
   "metadata": {
    "colab": {
     "base_uri": "https://localhost:8080/",
     "height": 34
    },
    "colab_type": "code",
    "id": "6SLuc3zmBpHd",
    "outputId": "095b6b08-2d99-4d85-a1f9-4273bd1546b7"
   },
   "outputs": [
    {
     "name": "stdout",
     "output_type": "stream",
     "text": [
      "Train Accuracy = 0.7380; Validation Accuracy = 0.5927\n"
     ]
    }
   ],
   "source": [
    "train_accuracy = trainer.train_accuracy_history[-1]\n",
    "validation_accuracy = trainer.validation_accuracy_history[-1]\n",
    "print('Train Accuracy = {:.4f}; Validation Accuracy = {:.4f}'.format(train_accuracy, validation_accuracy))"
   ]
  },
  {
   "cell_type": "markdown",
   "metadata": {
    "colab_type": "text",
    "id": "IBLf3n6aTdnJ"
   },
   "source": [
    "Similar to the previous part, now plot out the loss and accuracy history. Also copy the plots onto the report, and answer the questions accordingly.\n",
    "\n",
    "**TODO 13:** Achieve **52%** validation accuracy for full credits for this part."
   ]
  },
  {
   "cell_type": "markdown",
   "metadata": {
    "colab_type": "text",
    "id": "amh1wxlJBpHj"
   },
   "source": [
    "## 7 Pretrained AlexNet\n",
    "You can see that after the above adjustment, our model performance increases in terms of testing accuracy. Although the training accuracy drops, now it's closer to the testing values and that's more natural in terms of performance. But we are not satisfied with the final performance yet. Our model, in the end, is still a 2-layer SimpleNet and it might be capable of capturing some features, but could be improved a lot if we go **deeper**. In this part we are going to see the power of a famous model: AlexNet."
   ]
  },
  {
   "cell_type": "code",
   "execution_count": 102,
   "metadata": {
    "colab": {},
    "colab_type": "code",
    "id": "ttbhBZ7CXUng"
   },
   "outputs": [],
   "source": [
    "inp_size = (224, 224)"
   ]
  },
  {
   "cell_type": "markdown",
   "metadata": {
    "colab_type": "text",
    "id": "BMfz9HrpTdnO"
   },
   "source": [
    "PyTorch has provided us with pre-trained models like AlexNet, so what you want to do is to load the model first, and then adjust some of the layers such that it fits with our own dataset, instead of outputing scores to 1000 classes from the original AlexNet model.\n",
    "\n",
    "There are many reasons for using pre-trained weights instead of training AlexNet from scratch:\n",
    "1. We have a really small dataset. Alexnet has millions of parameters and will definitely overfit. The pre-trained alexnet will have access to millions of training images.\n",
    "2. We save a lot of computation.\n",
    "\n",
    "**TODO 14:** Switch to `my_alexnet.py`, and copy the network architecture and weights of all but the last fc layers from the pretrained network.\n",
    "\n",
    "After you have defined the correct architecture of the model, make some tweaks to the existing layers: **freeze** the **convolutional** layers and first 2 **linear** layers so we don't update the weights of them. More instructions are in the docstring.\n",
    "\n",
    "Note that you are allowed to add more layers/unfreeze more layers if you see fit."
   ]
  },
  {
   "cell_type": "code",
   "execution_count": null,
   "metadata": {
    "colab": {
     "base_uri": "https://localhost:8080/",
     "height": 101,
     "referenced_widgets": [
      "0b81f9c1f6bc454a87fe4778bf952649",
      "fd2dd89a02c845749277122b6b6ff950",
      "069982490a6f40c99dd18422032d2c88",
      "5cb5fa8ce08046aab383a70a67501a4b",
      "d6ecbfe7ee7b4d4da398c5ee56badae9",
      "92f6efa8b5fd49e69bdada865cbc3fab",
      "c6638c5846de4196a0a8238b10db6cdd",
      "88ea6259ff60465884b7d21ee6b48479"
     ]
    },
    "colab_type": "code",
    "id": "DmXFp9NdTdnO",
    "outputId": "3fe93ff7-235f-4f24-92d9-652824ba6089"
   },
   "outputs": [],
   "source": [
    "print(\"Testing your AlexNet architecture: \", verify(test_my_alexnet))"
   ]
  },
  {
   "cell_type": "code",
   "execution_count": null,
   "metadata": {
    "colab": {
     "base_uri": "https://localhost:8080/",
     "height": 486
    },
    "colab_type": "code",
    "id": "CBoLgRrlBpHl",
    "outputId": "03113d70-bde0-4e97-9530-bd3cd8123096"
   },
   "outputs": [],
   "source": [
    "my_alexnet = MyAlexNet()\n",
    "print(my_alexnet)"
   ]
  },
  {
   "cell_type": "code",
   "execution_count": null,
   "metadata": {
    "colab": {},
    "colab_type": "code",
    "id": "J6AYkHAgBpHw"
   },
   "outputs": [],
   "source": [
    "# TODO: add a decent initial setting and tune from there\n",
    "optimizer_config = {\n",
    "  \"optimizer_type\": \"sgd\",\n",
    "  \"lr\": 1e-5,\n",
    "  \"weight_decay\": 1e-2\n",
    "}"
   ]
  },
  {
   "cell_type": "code",
   "execution_count": null,
   "metadata": {
    "colab": {},
    "colab_type": "code",
    "id": "DtCIaTMmBpIK"
   },
   "outputs": [],
   "source": [
    "my_alexnet = MyAlexNet()\n",
    "optimizer = get_optimizer(my_alexnet, optimizer_config)\n",
    "\n",
    "trainer = Trainer(data_dir=data_base_path, \n",
    "                  model = my_alexnet,\n",
    "                  optimizer = optimizer,\n",
    "                  model_dir = os.path.join(model_base_path, 'alexnet'),\n",
    "                  train_data_transforms = get_data_augmentation_transforms(inp_size, dataset_mean, dataset_std),\n",
    "                  test_data_transforms = get_fundamental_transforms(inp_size, dataset_mean, dataset_std),\n",
    "                  batch_size = 32,\n",
    "                  load_from_disk = False,\n",
    "                  cuda = is_cuda\n",
    "                 )"
   ]
  },
  {
   "cell_type": "markdown",
   "metadata": {
    "colab_type": "text",
    "id": "BOeaVrlZTdnY"
   },
   "source": [
    "The following training cell will take roughly 20 minutes or slightly more using CPU (but possibly under 5 minute using GPU depending on the batch size; the TAs got it within 3 minutes on a GTX1060)."
   ]
  },
  {
   "cell_type": "code",
   "execution_count": null,
   "metadata": {
    "colab": {
     "base_uri": "https://localhost:8080/",
     "height": 121
    },
    "colab_type": "code",
    "id": "CAcncwLPBpIQ",
    "outputId": "2c47c01f-ab88-4414-bb0e-cb0ef17ac5fa"
   },
   "outputs": [],
   "source": [
    "trainer.train(num_epochs=5)"
   ]
  },
  {
   "cell_type": "markdown",
   "metadata": {
    "colab_type": "text",
    "id": "ax5cpYmZTdna"
   },
   "source": [
    "Now let's have your model predict on some examples and see how well it performs qualitatively."
   ]
  },
  {
   "cell_type": "code",
   "execution_count": null,
   "metadata": {
    "colab": {},
    "colab_type": "code",
    "id": "rc_IeNR9Tdnb"
   },
   "outputs": [],
   "source": [
    "# # visualize train split\n",
    "print(\"Examples from train split:\")\n",
    "visualize(my_alexnet, 'train', get_fundamental_transforms(inp_size, dataset_mean, dataset_std))"
   ]
  },
  {
   "cell_type": "code",
   "execution_count": null,
   "metadata": {
    "colab": {},
    "colab_type": "code",
    "id": "IMxmCz4WTdnc"
   },
   "outputs": [],
   "source": [
    "# # visualize test split\n",
    "print(\"Examples from test split:\")\n",
    "visualize(my_alexnet, 'test', get_fundamental_transforms(inp_size, dataset_mean, dataset_std))"
   ]
  },
  {
   "cell_type": "code",
   "execution_count": null,
   "metadata": {
    "colab": {
     "base_uri": "https://localhost:8080/",
     "height": 573
    },
    "colab_type": "code",
    "id": "Cimj95G_BpIU",
    "outputId": "d3a0ae4b-6c7c-4b02-cd45-904edd6f45af",
    "scrolled": true
   },
   "outputs": [],
   "source": [
    "trainer.plot_loss_history()\n",
    "trainer.plot_accuracy()"
   ]
  },
  {
   "cell_type": "code",
   "execution_count": null,
   "metadata": {
    "colab": {
     "base_uri": "https://localhost:8080/",
     "height": 34
    },
    "colab_type": "code",
    "id": "qMI3CdEuBpIb",
    "outputId": "ee50a93a-ddad-4114-ed56-eff8f1b16085"
   },
   "outputs": [],
   "source": [
    "train_accuracy = trainer.train_accuracy_history[-1]\n",
    "validation_accuracy = trainer.validation_accuracy_history[-1]\n",
    "print('Train Accuracy = {:.4f}; Validation Accuracy = {:.4f}'.format(train_accuracy, validation_accuracy))"
   ]
  },
  {
   "cell_type": "markdown",
   "metadata": {
    "colab_type": "text",
    "id": "T6DN_wGXTdni"
   },
   "source": [
    "**TODO 15**: Like both previous sections, you are required to pass a threshold of **85%** for this part. Copy the plots and values onto the report and answer questions accordingly."
   ]
  },
  {
   "cell_type": "markdown",
   "metadata": {
    "colab_type": "text",
    "id": "5c5P8X3ShaDn"
   },
   "source": [
    "If you are doing this project individually, you have completed all the compulsory portion of the project code.\n",
    "\n",
    "Please review the rubric before proceeding to extra credits. Note that extra-credits require more effort per grade point than regular credits, so please do not worry if you cannot finish them. That being said, extra-credits are designed to enchance the learning on the topic, and you might want to review it.\n",
    "\n",
    "**Note:** EC1 is compulsory for students doing this project in pairs."
   ]
  },
  {
   "cell_type": "markdown",
   "metadata": {
    "colab_type": "text",
    "id": "doyCYfXOhaDn"
   },
   "source": [
    "## Extra Credit 1 Ablation Studies for SimpleNet"
   ]
  },
  {
   "cell_type": "markdown",
   "metadata": {
    "colab_type": "text",
    "id": "CvTpi2cPhaDo"
   },
   "source": [
    "After you have implemented the SimpleNet and play with the parameters, you have a better understanding of Convolutional Neural Network. Now let's do some ablation studies about the simple net. How those parameters will influence the performance of your simple network?\n",
    "\n",
    "**Hint:** you can think about kernel size, number of convolutional layers, fully connected layers, normalization layers, the input image size.\n",
    "\n",
    "You need to perform atleast 3 ablation studies and analyse the accuracy as well as the training/inference time. Please keep track of your experiments and the results as you are required to add them to the report. The experiments should demonstrate an effect on accuracy/timing and you need to provide your reasoning behind it. Your thought process and experiment design is more important than getting _correct observations_."
   ]
  },
  {
   "cell_type": "markdown",
   "metadata": {
    "colab_type": "text",
    "id": "Qs8wn_johaDp"
   },
   "source": [
    "**TODO EC1** Please fill the ```optimizer_config``` in the next cell with well-tuned parameter same with the value for your simple net. Change the model structure from ```SimpleNet``` in ```simple_net_ablation.py```. you will need to fill the ```__init__``` and ```forward``` in that file like what you did previously but with different hyperparameters.\n",
    "\n",
    "Repeat this TODO multiple times to perform 3 studies."
   ]
  },
  {
   "cell_type": "code",
   "execution_count": null,
   "metadata": {
    "colab": {},
    "colab_type": "code",
    "id": "7Qb7yOuQhaDq"
   },
   "outputs": [],
   "source": [
    "inp_size = (64,64)\n",
    "optimizer_config = {\n",
    "  \"optimizer_type\": \"sgd\",\n",
    "  \"lr\": 1e-5,\n",
    "  \"weight_decay\": 1e-2\n",
    "}"
   ]
  },
  {
   "cell_type": "code",
   "execution_count": null,
   "metadata": {
    "colab": {},
    "colab_type": "code",
    "id": "mbLebDerhaDr"
   },
   "outputs": [],
   "source": [
    "import time\n",
    "\n",
    "def eval_time(model: torch.nn.Module, input_tensor: torch.Tensor):\n",
    "    model.eval()\n",
    "    start = time.time()\n",
    "    for _ in range(100):\n",
    "        model(input_tensor)\n",
    "    end = time.time()\n",
    "    return (end-start)/100\n",
    "\n",
    "def print_time(model1: torch.nn.Module, model2: torch.nn.Module, input_tensor: torch.Tensor):\n",
    "    print(\"The time taken for original simple net is {:.9f}\".format(eval_time(model1, input_tensor)))\n",
    "    print(\"The time taken for ablated simple net is {:.9f}\".format(eval_time(model2, input_tensor)))\n",
    "    "
   ]
  },
  {
   "cell_type": "code",
   "execution_count": null,
   "metadata": {
    "colab": {
     "base_uri": "https://localhost:8080/",
     "height": 34
    },
    "colab_type": "code",
    "id": "EJKhnodLhaDv",
    "outputId": "8c465fb3-7c02-4917-bf50-e3124d3605c5"
   },
   "outputs": [],
   "source": [
    "simple_model = SimpleNet()\n",
    "optimizer = get_optimizer(simple_model, optimizer_config)\n",
    "\n",
    "trainer = Trainer(data_dir=data_base_path, \n",
    "                  model = simple_model,\n",
    "                  optimizer = optimizer,\n",
    "                  model_dir = os.path.join(model_base_path, 'simple_net'),\n",
    "                  train_data_transforms = get_fundamental_transforms(inp_size, dataset_mean, dataset_std),\n",
    "                  test_data_transforms = get_fundamental_transforms(inp_size, dataset_mean, dataset_std),\n",
    "                  batch_size = 32,\n",
    "                  load_from_disk = True,\n",
    "                  cuda = is_cuda\n",
    "                 )\n",
    "_, accuracy = trainer.evaluate()\n",
    "\n",
    "print(accuracy)"
   ]
  },
  {
   "cell_type": "code",
   "execution_count": null,
   "metadata": {
    "colab": {},
    "colab_type": "code",
    "id": "EAdiwxhZhaDx"
   },
   "outputs": [],
   "source": [
    "from proj2_code.simple_net_ablation import SimpleNetAblation\n",
    "\n",
    "simple_model_ablation = SimpleNetAblation()\n",
    "optimizer_ablation = get_optimizer(simple_model_ablation, optimizer_config)\n",
    "\n",
    "trainer_ablation = Trainer(data_dir=data_base_path, \n",
    "                  model = simple_model_ablation,\n",
    "                  optimizer = optimizer_ablation,\n",
    "                  model_dir = os.path.join(model_base_path, 'simple_net_ablation'),\n",
    "                  train_data_transforms = get_fundamental_transforms(inp_size, dataset_mean, dataset_std),\n",
    "                  test_data_transforms = get_fundamental_transforms(inp_size, dataset_mean, dataset_std),\n",
    "                  batch_size = 32,\n",
    "                  load_from_disk = False,\n",
    "                  cuda = is_cuda\n",
    "                 )"
   ]
  },
  {
   "cell_type": "code",
   "execution_count": null,
   "metadata": {
    "colab": {
     "base_uri": "https://localhost:8080/",
     "height": 555
    },
    "colab_type": "code",
    "id": "FsOKhLPMhaD0",
    "outputId": "c6a76ff2-d71b-4043-b06a-1c1cd557f6dd"
   },
   "outputs": [],
   "source": [
    "ablation_train_start = time.time()\n",
    "trainer_ablation.train(num_epochs=30)\n",
    "ablation_train_end = time.time()\n",
    "print(\"The training time taken for tuned simple net is {:.9f}\".format(ablation_train_end-ablation_train_start))"
   ]
  },
  {
   "cell_type": "code",
   "execution_count": null,
   "metadata": {
    "colab": {
     "base_uri": "https://localhost:8080/",
     "height": 34
    },
    "colab_type": "code",
    "id": "dvtfXEC-n92c",
    "outputId": "f3a0fad6-1bcf-492d-f727-27e463f42669"
   },
   "outputs": [],
   "source": [
    "_, accuracy_ablation = trainer_ablation.evaluate()\n",
    "print(accuracy_ablation)"
   ]
  },
  {
   "cell_type": "code",
   "execution_count": null,
   "metadata": {
    "colab": {
     "base_uri": "https://localhost:8080/",
     "height": 573
    },
    "colab_type": "code",
    "id": "A3oO1AnfhaD1",
    "outputId": "3b10dc7c-3069-4567-8262-887c7dfc700c"
   },
   "outputs": [],
   "source": [
    "trainer_ablation.plot_loss_history()\n",
    "trainer_ablation.plot_accuracy()"
   ]
  },
  {
   "cell_type": "code",
   "execution_count": null,
   "metadata": {
    "colab": {
     "base_uri": "https://localhost:8080/",
     "height": 52
    },
    "colab_type": "code",
    "id": "u78YGxgEhaD3",
    "outputId": "2c44cb54-ffa1-44a0-a3be-463f98a68ad1"
   },
   "outputs": [],
   "source": [
    "sample_input, _ = next(iter(image_loader))\n",
    "sample_input = sample_input.unsqueeze(0)\n",
    "\n",
    "if is_cuda:\n",
    "    sample_input = sample_input.to('cuda')\n",
    "\n",
    "print_time(simple_model, simple_model_ablation, sample_input)"
   ]
  },
  {
   "cell_type": "markdown",
   "metadata": {
    "colab_type": "text",
    "id": "tJNZaFSqhaD5"
   },
   "source": [
    "## Extra Credit 2: Model Space/Compute improvement\n",
    "\n",
    "We have created the AlexNet model which performs really well. But can we deploy on a robot which does not have access to powerful GPUs. What if we want to make the model simpler and faster for inference. One option will be to use SimpleNet or a variant of it. But that has very low accuracy compared to AlexNet.\n",
    "\n",
    "Can we utilize the AlexNet model which we have learnt and improve the memory/compute usage? This is an active research area with [several possible options](https://arxiv.org/pdf/1710.09282.pdf).\n",
    "\n",
    "In this part, we will try quantizing our filter weights from 32-bit floating point to 8-bit integer. As you can guess, all the weights in the layers (in convolution and fully connected layers) will have a 75% reduction from this simple switch.\n",
    "\n",
    "What about compute time? The first benefit is directly from lower memory foot-print. We can transfer more weights in the fixed memory bandwith and the cache can hold more weights too. Some CPU architectures might have INT8 computation units which can offer more speedup.\n",
    "\n",
    "We might lose some accuracy when we sacrifice precision. Doing the fp32->int8 conversion directly is a bad choice. \n",
    "Suppose an activation is in a small range of $[0.1, 0.2]$. We cannot just round the weights as the activation might be the same for all the inputs. Hence we need to quantize based on the statistics of the activations.\n",
    "\n",
    "This is a very brief introduction, and we expect you to read material online to complete this section.\n",
    "[Pytorch's Introduction to Quantization](https://pytorch.org/blog/introduction-to-quantization-on-pytorch/) is a good starting point. We used the post-training static quantization scheme and got good performance. You are free to use any quantization scheme as long as it falls within one of the buckes of the rubric.\n",
    "\n",
    "**TODO EC2.1**: Write the ```forward``` function in ```my_alexnet_quantized.py```. Do remember that the input and the output of the function will not be quantized and you need to pass them through a layer for quantization/dequantization.\n",
    "\n",
    "\n",
    "**TODO EC2.2**: Write the ```quantize_model``` function in ```quantization.py```.\n",
    "\n",
    "**Grading**: There are no unit tests for this portion. You will be required to write your idea, paste code snippets, and results in the report. The rubric for this section is a bit complicated and it is recommended to review it before proceeding further.\n",
    "\n",
    "Please note that not all possible buckets may be possible to achieve using simple post-training static quantization scheme. You can obtain a decent performance here and come back later if you are inclined. Make sure you understand what you are doing as 2 points will be alloted for that."
   ]
  },
  {
   "cell_type": "code",
   "execution_count": null,
   "metadata": {
    "colab": {},
    "colab_type": "code",
    "id": "P3W2xS4ShaD5"
   },
   "outputs": [],
   "source": [
    "from proj2_code.quantization import quantize_model"
   ]
  },
  {
   "cell_type": "code",
   "execution_count": null,
   "metadata": {
    "colab": {},
    "colab_type": "code",
    "id": "W6YBIj4jhaD7"
   },
   "outputs": [],
   "source": [
    "inp_size = (224, 224)"
   ]
  },
  {
   "cell_type": "code",
   "execution_count": null,
   "metadata": {
    "colab": {},
    "colab_type": "code",
    "id": "bLY3-92zhaD8"
   },
   "outputs": [],
   "source": [
    "original_model = MyAlexNet().to('cpu')"
   ]
  },
  {
   "cell_type": "code",
   "execution_count": null,
   "metadata": {
    "colab": {},
    "colab_type": "code",
    "id": "7RCEz4vYhaD_"
   },
   "outputs": [],
   "source": [
    "alexnet_trainer = Trainer(data_dir=data_base_path, \n",
    "                  model = original_model,\n",
    "                  optimizer = get_optimizer(original_model, optimizer_config),\n",
    "                  model_dir = os.path.join(model_base_path, 'alexnet'),\n",
    "                  train_data_transforms = get_data_augmentation_transforms(inp_size, dataset_mean, dataset_std),\n",
    "                  test_data_transforms = get_fundamental_transforms(inp_size, dataset_mean, dataset_std),\n",
    "                  batch_size = 32,\n",
    "                  load_from_disk = True,\n",
    "                  cuda = False\n",
    "                 )"
   ]
  },
  {
   "cell_type": "code",
   "execution_count": null,
   "metadata": {
    "colab": {},
    "colab_type": "code",
    "id": "wb66xBschaEB"
   },
   "outputs": [],
   "source": [
    "image_loader = ImageLoader(data_base_path, \n",
    "                           split='train', \n",
    "                           transform=get_fundamental_transforms(inp_size, dataset_mean, dataset_std)\n",
    "                          )"
   ]
  },
  {
   "cell_type": "code",
   "execution_count": null,
   "metadata": {
    "colab": {},
    "colab_type": "code",
    "id": "MIgwwiLshaED"
   },
   "outputs": [],
   "source": [
    "quantized_alexnet = quantize_model(original_model, image_loader)"
   ]
  },
  {
   "cell_type": "code",
   "execution_count": null,
   "metadata": {
    "colab": {},
    "colab_type": "code",
    "id": "X7ELeeAXhaEF"
   },
   "outputs": [],
   "source": [
    "quantized_alexnet_trainer = Trainer(data_dir=data_base_path, \n",
    "                  model = quantized_alexnet,\n",
    "                  optimizer = get_optimizer(original_model, optimizer_config),\n",
    "                  model_dir = os.path.join(model_base_path, 'quantized_alexnet'),\n",
    "                  train_data_transforms = get_data_augmentation_transforms(inp_size, dataset_mean, dataset_std),\n",
    "                  test_data_transforms = get_fundamental_transforms(inp_size, dataset_mean, dataset_std),\n",
    "                  batch_size = 32,\n",
    "                  load_from_disk = False,\n",
    "                  cuda = False\n",
    "                 )\n",
    "\n",
    "quantized_alexnet_trainer.save_model()"
   ]
  },
  {
   "cell_type": "markdown",
   "metadata": {
    "colab_type": "text",
    "id": "RTRFv4D3haEH"
   },
   "source": [
    "### Size comparison"
   ]
  },
  {
   "cell_type": "code",
   "execution_count": null,
   "metadata": {
    "colab": {},
    "colab_type": "code",
    "id": "ssNmgOCNhaEH"
   },
   "outputs": [],
   "source": [
    "quantized_alexnet_size = os.path.getsize(os.path.join(model_base_path, 'quantized_alexnet', 'checkpoint.pt'))/1e6\n",
    "alexnet_size = os.path.getsize(os.path.join(model_base_path, 'alexnet', 'checkpoint.pt'))/1e6"
   ]
  },
  {
   "cell_type": "code",
   "execution_count": null,
   "metadata": {
    "colab": {
     "base_uri": "https://localhost:8080/",
     "height": 69
    },
    "colab_type": "code",
    "id": "rn_vbAMohaEJ",
    "outputId": "11514b3a-6c2b-4d6b-83e5-18ea2aabb9cc"
   },
   "outputs": [],
   "source": [
    "print('Original Alexnet Size: {:.2f}'.format(alexnet_size))\n",
    "print('Quantized Alexnet Size: {:.2f}'.format(quantized_alexnet_size))\n",
    "print('Percentage reduction: {:.2f}%'.format(100-100*quantized_alexnet_size/alexnet_size))"
   ]
  },
  {
   "cell_type": "markdown",
   "metadata": {
    "colab_type": "text",
    "id": "SY7N9paphaEM"
   },
   "source": [
    "Now let's have your model predict on some examples and see how well it performs qualitatively."
   ]
  },
  {
   "cell_type": "markdown",
   "metadata": {
    "colab_type": "text",
    "id": "3lo7-Hddnlou"
   },
   "source": [
    "### Speed comparison"
   ]
  },
  {
   "cell_type": "code",
   "execution_count": null,
   "metadata": {
    "colab": {},
    "colab_type": "code",
    "id": "u83cw0MxhaEP"
   },
   "outputs": [],
   "source": [
    "import time\n",
    "\n",
    "def time_forward_pass(model: torch.nn.Module, input_tensor: torch.tensor) -> float:\n",
    "    model.eval()\n",
    "    start = time.time()\n",
    "    for _ in range(300):\n",
    "        model(input_tensor)\n",
    "    end = time.time()\n",
    "    \n",
    "    return (end-start)/300"
   ]
  },
  {
   "cell_type": "code",
   "execution_count": null,
   "metadata": {
    "colab": {},
    "colab_type": "code",
    "id": "TIY2v2s5haEY"
   },
   "outputs": [],
   "source": [
    "sample_input, _ = next(iter(image_loader))\n",
    "sample_input = sample_input.unsqueeze(0)"
   ]
  },
  {
   "cell_type": "code",
   "execution_count": null,
   "metadata": {
    "colab": {},
    "colab_type": "code",
    "id": "n4pAK68ohaEb"
   },
   "outputs": [],
   "source": [
    "quantized_alexnet_time = time_forward_pass(quantized_alexnet, sample_input)"
   ]
  },
  {
   "cell_type": "code",
   "execution_count": null,
   "metadata": {
    "colab": {},
    "colab_type": "code",
    "id": "Ldb6amFchaEc"
   },
   "outputs": [],
   "source": [
    "alexnet_time = time_forward_pass(original_model, sample_input)"
   ]
  },
  {
   "cell_type": "code",
   "execution_count": null,
   "metadata": {
    "colab": {
     "base_uri": "https://localhost:8080/",
     "height": 69
    },
    "colab_type": "code",
    "id": "PJUdiCrehaEd",
    "outputId": "13a6d5a5-416b-431d-8297-cb03bdcbadca"
   },
   "outputs": [],
   "source": [
    "print('Original Alexnet Time: {:.2f}'.format(alexnet_time))\n",
    "print('Quantized Alexnet Time: {:.2f}'.format(quantized_alexnet_time))\n",
    "print('Percentage reduction: {:.2f}%'.format(100-100*quantized_alexnet_time/alexnet_time))"
   ]
  },
  {
   "cell_type": "code",
   "execution_count": null,
   "metadata": {
    "colab": {},
    "colab_type": "code",
    "id": "teAdeSYmhaEf"
   },
   "outputs": [],
   "source": [
    "_, alexnet_accuracy = alexnet_trainer.evaluate()\n",
    "_, quantized_alexnet_accuracy = quantized_alexnet_trainer.evaluate()"
   ]
  },
  {
   "cell_type": "code",
   "execution_count": null,
   "metadata": {
    "colab": {
     "base_uri": "https://localhost:8080/",
     "height": 69
    },
    "colab_type": "code",
    "id": "WKN3q0vMhaEi",
    "outputId": "9f20ccaf-39bf-45df-bc38-1c4beef94876"
   },
   "outputs": [],
   "source": [
    "print('Original Alexnet Accuracy: {:.2f}'.format(alexnet_accuracy))\n",
    "print('Quantized Alexnet Accuracy: {:.2f}'.format(quantized_alexnet_accuracy))\n",
    "print('Percentage reduction: {:.2f}%'.format(100-100*quantized_alexnet_accuracy/alexnet_accuracy))"
   ]
  },
  {
   "cell_type": "markdown",
   "metadata": {
    "colab_type": "text",
    "id": "PNyC74luhaEu"
   },
   "source": [
    "### Extra Credit 3 Classification Performance Analysis\n",
    "\n",
    "In this part, you will need to analyze the performance of your models by evaluating your model's predictions. To do that, you could use the metrics scores, such as precision, recall, F1 score, confusion matrix, etc. Since we care more about your reasoning and reflection here, you can directly use functions from `sklear.metrics`. You can find the list of available metrics and what each one is assessing [here](https://scikit-learn.org/stable/modules/model_evaluation.html#classification-metrics).\n",
    "\n",
    "**TODO EC3.1:** implement the function `evaluate` in `analyze.py`. Then use metrics scores returned by this function to evaluate the quality of predictions on the **test** split for `SimpleNet`, `SimpleNetDropout`, and `MyAlexNet`, anaylze the performance of the models, and put your analysis in the report.\n",
    "\n",
    "Here, we ask you to compute the confusion matrix as one of the metrics. You don't have to compute it manually, instead, you could use the function from `sklearn.metrics` or `PyCM`. You can refer to the documentation of [the sklearn function](https://scikit-learn.org/stable/modules/generated/sklearn.metrics.confusion_matrix.html), or if you prefer `PyCM` package, you can refer to its [full documentation](https://www.pycm.ir/doc/index.html#Usage) or [an example of usage](https://www.pycm.ir/doc/Example1.html). You could also learn more about the confusion matrix itself in its [wiki](https://en.wikipedia.org/wiki/Confusion_matrix).\n",
    "\n",
    "Besides the confusion matrix, you also need to use at least 1 and at most 3 additional metrics of your own choise. You don't need to compute any metrics manually, instead, you could just call the functions from `sklearn.metrics`. Since accuracy is already reported during training, accuracy will **NOT** count in this part, but you can use it in your analysis. \n",
    "\n",
    "You need to do two things in your `evaluate` function.\n",
    "1. compute the confusion matrix and return it\n",
    "2. compute 1 to 3 additional metrics scores and return them.\n",
    "\n",
    "Note that your code is not the main issue here as you are free to use third party modules. Please make sure you understand what the results mean and you can reflect on the observations.\n",
    "\n",
    "**TODO EC3.2:** please answer the following questions in your report.\n",
    "* What are your confusion matrices for each model? What information do they give you and what do you think about it?\n",
    "* What additional metrics are you using? What are the scores and how are they evaluating the model's performance? What do you think could possibly improve the performance?\n",
    "\n",
    "**Grading**: There are no unit tests for this portion. You will be required to write your idea and results in the report."
   ]
  },
  {
   "cell_type": "code",
   "execution_count": null,
   "metadata": {
    "colab": {
     "base_uri": "https://localhost:8080/",
     "height": 173
    },
    "colab_type": "code",
    "id": "hKdRhhbdqfsa",
    "outputId": "b03ed603-81ed-40cc-b37f-cec537ce6da4"
   },
   "outputs": [],
   "source": [
    "# will need to run this on Colab as we are not using conda environment\n",
    "# !pip install pycm"
   ]
  },
  {
   "cell_type": "code",
   "execution_count": null,
   "metadata": {
    "colab": {},
    "colab_type": "code",
    "id": "tzG2qnBIhaEv"
   },
   "outputs": [],
   "source": [
    "from proj2_code.analyze import evaluate"
   ]
  },
  {
   "cell_type": "code",
   "execution_count": null,
   "metadata": {
    "colab": {},
    "colab_type": "code",
    "id": "9_9B-aRehaEw"
   },
   "outputs": [],
   "source": [
    "# get image loader\n",
    "inp_size = (64, 64)\n",
    "image_loader = ImageLoader(data_base_path,\n",
    "                           split='test',\n",
    "                           transform=get_fundamental_transforms(inp_size, dataset_mean, dataset_std)\n",
    "                          )"
   ]
  },
  {
   "cell_type": "code",
   "execution_count": null,
   "metadata": {
    "colab": {},
    "colab_type": "code",
    "id": "58JuvNDEhaEx"
   },
   "outputs": [],
   "source": [
    "### Evaluate SimpleNet ###\n",
    "# Load the model from saved checkpoints\n",
    "simple_net = SimpleNet()\n",
    "model_dir = os.path.join(model_base_path, 'simple_net', 'checkpoint.pt')\n",
    "\n",
    "# evaluate the model\n",
    "metrics_list = []\n",
    "metrics_args = []\n",
    "cm, scores = evaluate(simple_net, image_loader, is_cuda, metrics_list, metrics_args, model_dir)"
   ]
  },
  {
   "cell_type": "code",
   "execution_count": null,
   "metadata": {
    "colab": {},
    "colab_type": "code",
    "id": "clQtnWKyhaEz"
   },
   "outputs": [],
   "source": [
    "### Student TODO: you can print the confusion matrix and evaluation scores here ###"
   ]
  },
  {
   "cell_type": "code",
   "execution_count": null,
   "metadata": {
    "colab": {},
    "colab_type": "code",
    "id": "aI9aJq5xhaE0"
   },
   "outputs": [],
   "source": [
    "### Evaluate SimpleNetDropout ###\n",
    "\n",
    "# Load the model from saved checkpoints\n",
    "simple_net_dropout = SimpleNetDropout()\n",
    "model_dir = os.path.join(model_base_path, 'simple_net_dropout', 'checkpoint.pt')\n",
    "\n",
    "metrics_list = []\n",
    "metrics_args = []\n",
    "cm, scores = evaluate(simple_net_dropout, image_loader, is_cuda, metrics_list, metrics_args, model_dir)"
   ]
  },
  {
   "cell_type": "code",
   "execution_count": null,
   "metadata": {
    "colab": {},
    "colab_type": "code",
    "id": "wjrHV-1UhaE2"
   },
   "outputs": [],
   "source": [
    "### Student TODO: you can print the confusion matrix and evaluation scores here ###"
   ]
  },
  {
   "cell_type": "code",
   "execution_count": null,
   "metadata": {
    "colab": {},
    "colab_type": "code",
    "id": "q6-IFlrUrUtz"
   },
   "outputs": [],
   "source": [
    "# get image loader\n",
    "inp_size = (224, 224)\n",
    "image_loader = ImageLoader(data_base_path,\n",
    "                           split='test',\n",
    "                           transform=get_fundamental_transforms(inp_size, dataset_mean, dataset_std)\n",
    "                          )"
   ]
  },
  {
   "cell_type": "code",
   "execution_count": null,
   "metadata": {
    "colab": {},
    "colab_type": "code",
    "id": "uxEPdTQChaE4"
   },
   "outputs": [],
   "source": [
    "### Evaluate MyAlexNet ###\n",
    "\n",
    "# Load the model from saved checkpoints\n",
    "my_alexnet = MyAlexNet()\n",
    "model_dir = os.path.join(model_base_path, 'alexnet', 'checkpoint.pt')\n",
    "\n",
    "metrics_list = []\n",
    "metrics_args = []\n",
    "cm, scores = evaluate(my_alexnet, image_loader, is_cuda, metrics_list, metrics_args, model_dir)"
   ]
  },
  {
   "cell_type": "code",
   "execution_count": null,
   "metadata": {
    "colab": {},
    "colab_type": "code",
    "id": "jY8-3KzthaE5"
   },
   "outputs": [],
   "source": [
    "### Student TODO: you can print the confusion matrix and evaluation scores here ###"
   ]
  },
  {
   "cell_type": "markdown",
   "metadata": {
    "colab_type": "text",
    "id": "ZaopDcToTdnj"
   },
   "source": [
    "## Code testing\n",
    "We have provided a set of tests for you to evaluate your implementation. We have included tests inside ```proj2.ipynb``` so you can check your progress as you implement each section. At the end, you should call the tests from the terminal using the command ```pytest proj2_code/proj2_unit_tests/```"
   ]
  },
  {
   "cell_type": "markdown",
   "metadata": {
    "colab_type": "text",
    "id": "PIfkkgSahaE8"
   },
   "source": [
    "## Submission\n",
    "\n",
    "This is very important as you will lose 5 points for every time you do not follow the instructions.\n",
    "\n",
    "Do install any additional packages inside the conda environment. The TAs will use the same environment as defined in the config files we provide you, so anything that's not in there by default will probably cause your code to break during grading. Do use absolute paths in your code or your code will break. Use relative paths like the starter code already does. Failure to follow any of these instructions will lead to point deductions. Create the zip file using ```python zip_submission.py --gt_username <your_gt_username>``` (it will zip up the appropriate directories/files for you!) and hand it through Gradescope. Remember to submit your report as a PDF to Gradescope as well."
   ]
  },
  {
   "cell_type": "markdown",
   "metadata": {
    "colab_type": "text",
    "id": "QwzSFdI-haE8"
   },
   "source": [
    "## Rubric\n",
    "We have covered 35 credits in part 1 code. The overall rubric division for this part is:\n",
    "\n",
    "| Submission Type | Credit Type | Individual | Partner |\n",
    "| --------------- | ----------- | ---------- | ------- |\n",
    "| Code            | Mandatory   | 25         | 20      |\n",
    "| Report          | Mandatory   | 40         | 40      |\n",
    "| Report          | EC1         | 4          | 4       |\n",
    "| Report          | EC2         | 9          | 9       |\n",
    "| Report          | EC3         | 4          | 4       |\n",
    "| Total           |             | 82         | 77      |\n",
    "\n",
    "\n",
    "However, the max score for the this part is **capped at 77** for both individual and partner submissions. Hence individual submissions need not do all ECs for maximum possible credits.\n",
    "\n",
    "\n",
    "\n",
    "| Test name | Individual Scores | Partner Scores |\n",
    "| --------- | ----------------- | -------------- |\n",
    "| `test_simple_net_dropout` | 12 | 10 |\n",
    "|`test_my_alexnet` | 13 | 10 |\n",
    "\n",
    "**Rubric for EC2:**\n",
    "- +2 points for describing the strategy and explaining the main ideas in the report.\n",
    "\n",
    "Your results will fall in only one of these buckets. All the conditions in the bucket have to be satisfied to gain the points\n",
    "- +1 points for achieving >70% reduction in size, >20% reduction in speed, <10% reduction in accuracy\n",
    "- +2 points for achieving >70% reduction in size, >20% reduction in speed, <3% reduction in accuracy\n",
    "- +4 points for achieving >70% reduction in size, >20% reduction in speed, <0.75% reduction in accuracy\n",
    "- +4 points for achieving >70% reduction in size, >70% reduction in speed, <2% reduction in accuracy"
   ]
  },
  {
   "cell_type": "markdown",
   "metadata": {
    "colab_type": "text",
    "id": "lMUaxM3GhaE8"
   },
   "source": [
    "## Credit\n",
    "\n",
    "Assignment developed by Ayush Baid, Haoxin Ma, Jing Wu and Frank Dellaert, based on a the original assigment by Ayush Baid, Cusuh Ham, Jonathan Balloch, Shenhao Jiang, Frank Dellaert, and James Hays."
   ]
  }
 ],
 "metadata": {
  "accelerator": "GPU",
  "colab": {
   "collapsed_sections": [],
   "name": "proj6.ipynb",
   "provenance": [],
   "toc_visible": true
  },
  "kernelspec": {
   "display_name": "Python 3",
   "language": "python",
   "name": "python3"
  },
  "language_info": {
   "codemirror_mode": {
    "name": "ipython",
    "version": 3
   },
   "file_extension": ".py",
   "mimetype": "text/x-python",
   "name": "python",
   "nbconvert_exporter": "python",
   "pygments_lexer": "ipython3",
   "version": "3.8.5"
  },
  "widgets": {
   "application/vnd.jupyter.widget-state+json": {
    "069982490a6f40c99dd18422032d2c88": {
     "model_module": "@jupyter-widgets/controls",
     "model_name": "FloatProgressModel",
     "state": {
      "_dom_classes": [],
      "_model_module": "@jupyter-widgets/controls",
      "_model_module_version": "1.5.0",
      "_model_name": "FloatProgressModel",
      "_view_count": null,
      "_view_module": "@jupyter-widgets/controls",
      "_view_module_version": "1.5.0",
      "_view_name": "ProgressView",
      "bar_style": "success",
      "description": "100%",
      "description_tooltip": null,
      "layout": "IPY_MODEL_92f6efa8b5fd49e69bdada865cbc3fab",
      "max": 244418560,
      "min": 0,
      "orientation": "horizontal",
      "style": "IPY_MODEL_d6ecbfe7ee7b4d4da398c5ee56badae9",
      "value": 244418560
     }
    },
    "0b81f9c1f6bc454a87fe4778bf952649": {
     "model_module": "@jupyter-widgets/controls",
     "model_name": "HBoxModel",
     "state": {
      "_dom_classes": [],
      "_model_module": "@jupyter-widgets/controls",
      "_model_module_version": "1.5.0",
      "_model_name": "HBoxModel",
      "_view_count": null,
      "_view_module": "@jupyter-widgets/controls",
      "_view_module_version": "1.5.0",
      "_view_name": "HBoxView",
      "box_style": "",
      "children": [
       "IPY_MODEL_069982490a6f40c99dd18422032d2c88",
       "IPY_MODEL_5cb5fa8ce08046aab383a70a67501a4b"
      ],
      "layout": "IPY_MODEL_fd2dd89a02c845749277122b6b6ff950"
     }
    },
    "5cb5fa8ce08046aab383a70a67501a4b": {
     "model_module": "@jupyter-widgets/controls",
     "model_name": "HTMLModel",
     "state": {
      "_dom_classes": [],
      "_model_module": "@jupyter-widgets/controls",
      "_model_module_version": "1.5.0",
      "_model_name": "HTMLModel",
      "_view_count": null,
      "_view_module": "@jupyter-widgets/controls",
      "_view_module_version": "1.5.0",
      "_view_name": "HTMLView",
      "description": "",
      "description_tooltip": null,
      "layout": "IPY_MODEL_88ea6259ff60465884b7d21ee6b48479",
      "placeholder": "​",
      "style": "IPY_MODEL_c6638c5846de4196a0a8238b10db6cdd",
      "value": " 233M/233M [01:46&lt;00:00, 2.30MB/s]"
     }
    },
    "88ea6259ff60465884b7d21ee6b48479": {
     "model_module": "@jupyter-widgets/base",
     "model_name": "LayoutModel",
     "state": {
      "_model_module": "@jupyter-widgets/base",
      "_model_module_version": "1.2.0",
      "_model_name": "LayoutModel",
      "_view_count": null,
      "_view_module": "@jupyter-widgets/base",
      "_view_module_version": "1.2.0",
      "_view_name": "LayoutView",
      "align_content": null,
      "align_items": null,
      "align_self": null,
      "border": null,
      "bottom": null,
      "display": null,
      "flex": null,
      "flex_flow": null,
      "grid_area": null,
      "grid_auto_columns": null,
      "grid_auto_flow": null,
      "grid_auto_rows": null,
      "grid_column": null,
      "grid_gap": null,
      "grid_row": null,
      "grid_template_areas": null,
      "grid_template_columns": null,
      "grid_template_rows": null,
      "height": null,
      "justify_content": null,
      "justify_items": null,
      "left": null,
      "margin": null,
      "max_height": null,
      "max_width": null,
      "min_height": null,
      "min_width": null,
      "object_fit": null,
      "object_position": null,
      "order": null,
      "overflow": null,
      "overflow_x": null,
      "overflow_y": null,
      "padding": null,
      "right": null,
      "top": null,
      "visibility": null,
      "width": null
     }
    },
    "92f6efa8b5fd49e69bdada865cbc3fab": {
     "model_module": "@jupyter-widgets/base",
     "model_name": "LayoutModel",
     "state": {
      "_model_module": "@jupyter-widgets/base",
      "_model_module_version": "1.2.0",
      "_model_name": "LayoutModel",
      "_view_count": null,
      "_view_module": "@jupyter-widgets/base",
      "_view_module_version": "1.2.0",
      "_view_name": "LayoutView",
      "align_content": null,
      "align_items": null,
      "align_self": null,
      "border": null,
      "bottom": null,
      "display": null,
      "flex": null,
      "flex_flow": null,
      "grid_area": null,
      "grid_auto_columns": null,
      "grid_auto_flow": null,
      "grid_auto_rows": null,
      "grid_column": null,
      "grid_gap": null,
      "grid_row": null,
      "grid_template_areas": null,
      "grid_template_columns": null,
      "grid_template_rows": null,
      "height": null,
      "justify_content": null,
      "justify_items": null,
      "left": null,
      "margin": null,
      "max_height": null,
      "max_width": null,
      "min_height": null,
      "min_width": null,
      "object_fit": null,
      "object_position": null,
      "order": null,
      "overflow": null,
      "overflow_x": null,
      "overflow_y": null,
      "padding": null,
      "right": null,
      "top": null,
      "visibility": null,
      "width": null
     }
    },
    "c6638c5846de4196a0a8238b10db6cdd": {
     "model_module": "@jupyter-widgets/controls",
     "model_name": "DescriptionStyleModel",
     "state": {
      "_model_module": "@jupyter-widgets/controls",
      "_model_module_version": "1.5.0",
      "_model_name": "DescriptionStyleModel",
      "_view_count": null,
      "_view_module": "@jupyter-widgets/base",
      "_view_module_version": "1.2.0",
      "_view_name": "StyleView",
      "description_width": ""
     }
    },
    "d6ecbfe7ee7b4d4da398c5ee56badae9": {
     "model_module": "@jupyter-widgets/controls",
     "model_name": "ProgressStyleModel",
     "state": {
      "_model_module": "@jupyter-widgets/controls",
      "_model_module_version": "1.5.0",
      "_model_name": "ProgressStyleModel",
      "_view_count": null,
      "_view_module": "@jupyter-widgets/base",
      "_view_module_version": "1.2.0",
      "_view_name": "StyleView",
      "bar_color": null,
      "description_width": "initial"
     }
    },
    "fd2dd89a02c845749277122b6b6ff950": {
     "model_module": "@jupyter-widgets/base",
     "model_name": "LayoutModel",
     "state": {
      "_model_module": "@jupyter-widgets/base",
      "_model_module_version": "1.2.0",
      "_model_name": "LayoutModel",
      "_view_count": null,
      "_view_module": "@jupyter-widgets/base",
      "_view_module_version": "1.2.0",
      "_view_name": "LayoutView",
      "align_content": null,
      "align_items": null,
      "align_self": null,
      "border": null,
      "bottom": null,
      "display": null,
      "flex": null,
      "flex_flow": null,
      "grid_area": null,
      "grid_auto_columns": null,
      "grid_auto_flow": null,
      "grid_auto_rows": null,
      "grid_column": null,
      "grid_gap": null,
      "grid_row": null,
      "grid_template_areas": null,
      "grid_template_columns": null,
      "grid_template_rows": null,
      "height": null,
      "justify_content": null,
      "justify_items": null,
      "left": null,
      "margin": null,
      "max_height": null,
      "max_width": null,
      "min_height": null,
      "min_width": null,
      "object_fit": null,
      "object_position": null,
      "order": null,
      "overflow": null,
      "overflow_x": null,
      "overflow_y": null,
      "padding": null,
      "right": null,
      "top": null,
      "visibility": null,
      "width": null
     }
    }
   }
  }
 },
 "nbformat": 4,
 "nbformat_minor": 1
}
